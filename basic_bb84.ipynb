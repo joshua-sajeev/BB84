{
 "cells": [
  {
   "cell_type": "code",
   "execution_count": 1,
   "metadata": {},
   "outputs": [],
   "source": [
    "token= \"90c11c3427d32b9170daa73f5fffe26dc68634b8b6f0d8e5a83082726bd42c2d384e16c5ea3f3ed03f5cb71156de8fb4ba9b3880f9f990c6ed2d275f315de5d3\"\n",
    "from qiskit_ibm_runtime import QiskitRuntimeService\n",
    " \n",
    "QiskitRuntimeService.save_account(\n",
    "  token=token,\n",
    "  channel=\"ibm_quantum\",\n",
    "  overwrite=True\n",
    ")"
   ]
  },
  {
   "cell_type": "code",
   "execution_count": 2,
   "metadata": {},
   "outputs": [],
   "source": [
    "import numpy as np\n",
    "from qiskit.circuit.library import IQP\n",
    "from qiskit.transpiler.preset_passmanagers import generate_preset_pass_manager\n",
    "from qiskit.quantum_info import random_hermitian\n",
    "from qiskit_ibm_runtime import QiskitRuntimeService, SamplerV2 as Sampler"
   ]
  },
  {
   "cell_type": "code",
   "execution_count": null,
   "metadata": {},
   "outputs": [],
   "source": [
    "service = QiskitRuntimeService()\n",
    "n_qubits = 5\n",
    "backend = service.least_busy(operational=True, simulator=False, min_num_qubits=n_qubits)\n",
    "\n",
    "mat = np.real(random_hermitian(n_qubits, seed=1234))\n",
    "circuit = IQP(mat)\n",
    "circuit.measure_all()\n",
    "\n",
    "pm = generate_preset_pass_manager(backend=backend, optimization_level=1)\n",
    "isa_circuit = pm.run(circuit)\n",
    "\n",
    "sampler = Sampler(backend)\n",
    "job = sampler.run([isa_circuit])\n",
    "result = job.result()\n",
    "\n",
    "# Get results for the first (and only) PUB\n",
    "pub_result = result[0]\n"
   ]
  },
  {
   "cell_type": "code",
   "execution_count": null,
   "metadata": {},
   "outputs": [],
   "source": [
    "print(f\" > First ten results: {pub_result.data.meas.get_bitstrings()[:10]}\")"
   ]
  },
  {
   "cell_type": "code",
   "execution_count": 4,
   "metadata": {
    "id": "2i71EpqzAd-r"
   },
   "outputs": [],
   "source": [
    "import math\n",
    "from qiskit import QuantumCircuit, QuantumRegister, ClassicalRegister\n",
    "from qiskit_aer import AerSimulator\n",
    "from qiskit import transpile\n",
    "import matplotlib.pyplot as plt\n",
    "from qiskit_ibm_runtime import QiskitRuntimeService, SamplerV2\n",
    "from qiskit.transpiler.preset_passmanagers import generate_preset_pass_manager"
   ]
  },
  {
   "cell_type": "code",
   "execution_count": 5,
   "metadata": {},
   "outputs": [],
   "source": [
    "import numpy as np"
   ]
  },
  {
   "cell_type": "code",
   "execution_count": 6,
   "metadata": {},
   "outputs": [
    {
     "name": "stdout",
     "output_type": "stream",
     "text": [
      "Selected backend: <IBMBackend('ibm_sherbrooke')>\n"
     ]
    }
   ],
   "source": [
    "\n",
    "service = QiskitRuntimeService()\n",
    "backend = service.least_busy(operational=True, simulator=False)\n",
    "print(\"Selected backend:\", backend)"
   ]
  },
  {
   "cell_type": "markdown",
   "metadata": {},
   "source": [
    "## Runtime Example"
   ]
  },
  {
   "cell_type": "code",
   "execution_count": 6,
   "metadata": {},
   "outputs": [
    {
     "ename": "IBMInputValueError",
     "evalue": "'The instruction h on qubits (0,) is not supported by the target system. Circuits that do not match the target hardware definition are no longer supported after March 4, 2024. See the transpilation documentation (https://docs.quantum.ibm.com/guides/transpile) for instructions to transform circuits and the primitive examples (https://docs.quantum.ibm.com/guides/primitives-examples) to see this coupled with operator transformations.'",
     "output_type": "error",
     "traceback": [
      "\u001b[0;31m---------------------------------------------------------------------------\u001b[0m",
      "\u001b[0;31mIBMInputValueError\u001b[0m                        Traceback (most recent call last)",
      "Cell \u001b[0;32mIn[6], line 21\u001b[0m\n\u001b[1;32m     18\u001b[0m backend \u001b[38;5;241m=\u001b[39m service\u001b[38;5;241m.\u001b[39mleast_busy(operational\u001b[38;5;241m=\u001b[39m\u001b[38;5;28;01mTrue\u001b[39;00m, simulator\u001b[38;5;241m=\u001b[39m\u001b[38;5;28;01mFalse\u001b[39;00m)\n\u001b[1;32m     20\u001b[0m sampler \u001b[38;5;241m=\u001b[39m Sampler(backend)\n\u001b[0;32m---> 21\u001b[0m job \u001b[38;5;241m=\u001b[39m \u001b[43msampler\u001b[49m\u001b[38;5;241;43m.\u001b[39;49m\u001b[43mrun\u001b[49m\u001b[43m(\u001b[49m\u001b[43m[\u001b[49m\u001b[43mQC\u001b[49m\u001b[43m]\u001b[49m\u001b[43m)\u001b[49m\n\u001b[1;32m     22\u001b[0m \u001b[38;5;28mprint\u001b[39m(\u001b[38;5;124mf\u001b[39m\u001b[38;5;124m\"\u001b[39m\u001b[38;5;124mjob id: \u001b[39m\u001b[38;5;132;01m{\u001b[39;00mjob\u001b[38;5;241m.\u001b[39mjob_id()\u001b[38;5;132;01m}\u001b[39;00m\u001b[38;5;124m\"\u001b[39m)\n\u001b[1;32m     23\u001b[0m result \u001b[38;5;241m=\u001b[39m job\u001b[38;5;241m.\u001b[39mresult()\n",
      "File \u001b[0;32m~/projects/main/.venv/lib/python3.12/site-packages/qiskit_ibm_runtime/sampler.py:110\u001b[0m, in \u001b[0;36mSamplerV2.run\u001b[0;34m(self, pubs, shots)\u001b[0m\n\u001b[1;32m    106\u001b[0m coerced_pubs \u001b[38;5;241m=\u001b[39m [SamplerPub\u001b[38;5;241m.\u001b[39mcoerce(pub, shots) \u001b[38;5;28;01mfor\u001b[39;00m pub \u001b[38;5;129;01min\u001b[39;00m pubs]\n\u001b[1;32m    108\u001b[0m validate_classical_registers(coerced_pubs)\n\u001b[0;32m--> 110\u001b[0m \u001b[38;5;28;01mreturn\u001b[39;00m \u001b[38;5;28;43mself\u001b[39;49m\u001b[38;5;241;43m.\u001b[39;49m\u001b[43m_run\u001b[49m\u001b[43m(\u001b[49m\u001b[43mcoerced_pubs\u001b[49m\u001b[43m)\u001b[49m\n",
      "File \u001b[0;32m~/projects/main/.venv/lib/python3.12/site-packages/qiskit_ibm_runtime/base_primitive.py:162\u001b[0m, in \u001b[0;36mBasePrimitiveV2._run\u001b[0;34m(self, pubs)\u001b[0m\n\u001b[1;32m    160\u001b[0m \u001b[38;5;28;01mfor\u001b[39;00m pub \u001b[38;5;129;01min\u001b[39;00m pubs:\n\u001b[1;32m    161\u001b[0m     \u001b[38;5;28;01mif\u001b[39;00m \u001b[38;5;28mgetattr\u001b[39m(\u001b[38;5;28mself\u001b[39m\u001b[38;5;241m.\u001b[39m_backend, \u001b[38;5;124m\"\u001b[39m\u001b[38;5;124mtarget\u001b[39m\u001b[38;5;124m\"\u001b[39m, \u001b[38;5;28;01mNone\u001b[39;00m) \u001b[38;5;129;01mand\u001b[39;00m \u001b[38;5;129;01mnot\u001b[39;00m is_simulator(\u001b[38;5;28mself\u001b[39m\u001b[38;5;241m.\u001b[39m_backend):\n\u001b[0;32m--> 162\u001b[0m         \u001b[43mvalidate_isa_circuits\u001b[49m\u001b[43m(\u001b[49m\u001b[43m[\u001b[49m\u001b[43mpub\u001b[49m\u001b[38;5;241;43m.\u001b[39;49m\u001b[43mcircuit\u001b[49m\u001b[43m]\u001b[49m\u001b[43m,\u001b[49m\u001b[43m \u001b[49m\u001b[38;5;28;43mself\u001b[39;49m\u001b[38;5;241;43m.\u001b[39;49m\u001b[43m_backend\u001b[49m\u001b[38;5;241;43m.\u001b[39;49m\u001b[43mtarget\u001b[49m\u001b[43m)\u001b[49m\n\u001b[1;32m    164\u001b[0m     \u001b[38;5;28;01mif\u001b[39;00m \u001b[38;5;28misinstance\u001b[39m(\u001b[38;5;28mself\u001b[39m\u001b[38;5;241m.\u001b[39m_backend, IBMBackend):\n\u001b[1;32m    165\u001b[0m         \u001b[38;5;28mself\u001b[39m\u001b[38;5;241m.\u001b[39m_backend\u001b[38;5;241m.\u001b[39mcheck_faulty(pub\u001b[38;5;241m.\u001b[39mcircuit)\n",
      "File \u001b[0;32m~/projects/main/.venv/lib/python3.12/site-packages/qiskit_ibm_runtime/utils/validations.py:95\u001b[0m, in \u001b[0;36mvalidate_isa_circuits\u001b[0;34m(circuits, target)\u001b[0m\n\u001b[1;32m     93\u001b[0m message \u001b[38;5;241m=\u001b[39m is_isa_circuit(circuit, target)\n\u001b[1;32m     94\u001b[0m \u001b[38;5;28;01mif\u001b[39;00m message:\n\u001b[0;32m---> 95\u001b[0m     \u001b[38;5;28;01mraise\u001b[39;00m IBMInputValueError(\n\u001b[1;32m     96\u001b[0m         message\n\u001b[1;32m     97\u001b[0m         \u001b[38;5;241m+\u001b[39m \u001b[38;5;124m\"\u001b[39m\u001b[38;5;124m Circuits that do not match the target hardware definition are no longer \u001b[39m\u001b[38;5;124m\"\u001b[39m\n\u001b[1;32m     98\u001b[0m         \u001b[38;5;124m\"\u001b[39m\u001b[38;5;124msupported after March 4, 2024. See the transpilation documentation \u001b[39m\u001b[38;5;124m\"\u001b[39m\n\u001b[1;32m     99\u001b[0m         \u001b[38;5;124m\"\u001b[39m\u001b[38;5;124m(https://docs.quantum.ibm.com/guides/transpile) for instructions \u001b[39m\u001b[38;5;124m\"\u001b[39m\n\u001b[1;32m    100\u001b[0m         \u001b[38;5;124m\"\u001b[39m\u001b[38;5;124mto transform circuits and the primitive examples \u001b[39m\u001b[38;5;124m\"\u001b[39m\n\u001b[1;32m    101\u001b[0m         \u001b[38;5;124m\"\u001b[39m\u001b[38;5;124m(https://docs.quantum.ibm.com/guides/primitives-examples) to see \u001b[39m\u001b[38;5;124m\"\u001b[39m\n\u001b[1;32m    102\u001b[0m         \u001b[38;5;124m\"\u001b[39m\u001b[38;5;124mthis coupled with operator transformations.\u001b[39m\u001b[38;5;124m\"\u001b[39m\n\u001b[1;32m    103\u001b[0m     )\n",
      "\u001b[0;31mIBMInputValueError\u001b[0m: 'The instruction h on qubits (0,) is not supported by the target system. Circuits that do not match the target hardware definition are no longer supported after March 4, 2024. See the transpilation documentation (https://docs.quantum.ibm.com/guides/transpile) for instructions to transform circuits and the primitive examples (https://docs.quantum.ibm.com/guides/primitives-examples) to see this coupled with operator transformations.'"
     ]
    }
   ],
   "source": [
    "op_str = ''  # Initialize an empty output string\n",
    "num_qbits = 5  # Define number of qubits\n",
    "\n",
    "# Calculate the number of chunks needed\n",
    "num_chunks = math.ceil(str_len / num_qbits)\n",
    "for _ in range(num_chunks):\n",
    "    # Create a quantum register and classical register\n",
    "    q = QuantumRegister(num_qbits)\n",
    "    c = ClassicalRegister(num_qbits)\n",
    "    QC = QuantumCircuit(q, c)\n",
    "\n",
    "    # Apply Hadamard gates to all qubits to create superposition\n",
    "    for i in range(num_qbits):\n",
    "        QC.h(q[i])\n",
    "    QC.measure(q, c)\n",
    "    "
   ]
  },
  {
   "cell_type": "markdown",
   "metadata": {},
   "source": [
    "# Implementation"
   ]
  },
  {
   "cell_type": "markdown",
   "metadata": {},
   "source": [
    "## Random number generator"
   ]
  },
  {
   "cell_type": "code",
   "execution_count": 7,
   "metadata": {},
   "outputs": [],
   "source": [
    "sampler = Sampler(mode=backend)"
   ]
  },
  {
   "cell_type": "code",
   "execution_count": 8,
   "metadata": {},
   "outputs": [],
   "source": [
    "def RandomString(str_len, backend):\n",
    "    op_str = ''  # Initialize an empty output string\n",
    "    num_qbits = 10  # Define number of qubits\n",
    "\n",
    "    # Calculate the number of chunks needed\n",
    "    num_chunks = math.ceil(str_len / num_qbits)\n",
    "    print(num_chunks)\n",
    "    # Loop through each chunk to generate the string\n",
    "    for _ in range(num_chunks):\n",
    "        # Create a quantum register and classical register\n",
    "        q = QuantumRegister(num_qbits)\n",
    "        c = ClassicalRegister(num_qbits)\n",
    "        QC = QuantumCircuit(q, c)\n",
    "        \n",
    "        # Apply Hadamard gates to all qubits to create superposition\n",
    "        for i in range(num_qbits):\n",
    "            QC.h(q[i])\n",
    "        \n",
    "        QC.measure(q, c)  # Measure qubits into classical bits\n",
    "        \n",
    "        # Transpile the quantum circuit for the selected backend\n",
    "        transpiled_circuit = transpile(QC, backend)\n",
    "        QC.draw()\n",
    "        # Run the quantum circuit using the Sampler\n",
    "        sampler = SamplerV2(backend)\n",
    "        sampler.options.update(default_shots=1)\n",
    "        job = sampler.run([transpiled_circuit], shots=1)\n",
    "        print(f\"Job ID: {job.job_id()}\")\n",
    "        \n",
    "        # Get the result from the quantum job\n",
    "        result = job.result()\n",
    "        data = result[0].data\n",
    "        \n",
    "        # Dynamically get the first (or any) key in the data dictionary\n",
    "        bitarray = next(iter(data.values()))  # Get the BitArray object\n",
    "        counts = bitarray.get_counts()  # Call get_counts() on the BitArray        \n",
    "        # Extract the bitstring (the first key in the dictionary)\n",
    "        first_bitstring = next(iter(counts.keys()))  # This will give the first key (bitstring)\n",
    "        op_str += first_bitstring  # Add the bitstring to the output string\n",
    "    \n",
    "    return op_str[:str_len]  # Return the full random string (trim to the requested length)"
   ]
  },
  {
   "cell_type": "markdown",
   "metadata": {},
   "source": [
    "## Initialize Qiskit Runtime Service"
   ]
  },
  {
   "cell_type": "markdown",
   "metadata": {},
   "source": [
    "### Function check"
   ]
  },
  {
   "cell_type": "code",
   "execution_count": 17,
   "metadata": {},
   "outputs": [],
   "source": [
    "#str_len = 15\n",
    "#random_key = RandomString(str_len, backend)\n",
    "#print(\"Generated Random String:\", random_key)"
   ]
  },
  {
   "cell_type": "markdown",
   "metadata": {},
   "source": [
    "## Get Alice key,Bases"
   ]
  },
  {
   "cell_type": "code",
   "execution_count": 9,
   "metadata": {},
   "outputs": [
    {
     "name": "stdin",
     "output_type": "stream",
     "text": [
      "Enter a short message (default message is \"Hello World\"):  \n"
     ]
    },
    {
     "name": "stdout",
     "output_type": "stream",
     "text": [
      "Message to be sent: Hello\n",
      "Length of the encryption key:  10\n"
     ]
    }
   ],
   "source": [
    "# Get the message\n",
    "message = input('Enter a short message (default message is \"Hello World\"): ')\n",
    "if len(message) < 1:\n",
    "    message = 'Hello'\n",
    "print('Message to be sent:', message)\n",
    "\n",
    "# Define key length (for demo, use a shorter length)\n",
    "len_message = len(message) * 2\n",
    "print(\"Length of the encryption key: \", len_message)\n",
    "\n"
   ]
  },
  {
   "cell_type": "code",
   "execution_count": 18,
   "metadata": {},
   "outputs": [],
   "source": [
    "def get_random_string_from_job(job_id, backend, str_len):\n",
    "    job = service.job(job_id)\n",
    "    result = job.result()\n",
    "    op_str = \"\"\n",
    "    data = result[0].data  # Get the data from the result\n",
    "    # Loop through the data dictionary to extract the first (or any) bitstring\n",
    "    bitarray = next(iter(data.values()))  # Get the BitArray object\n",
    "    counts = bitarray.get_counts()  # Get the counts of bitstrings\n",
    "    \n",
    "    # Extract the first bitstring from the counts dictionary\n",
    "    first_bitstring = next(iter(counts.keys()))  # This will give the first key (bitstring)\n",
    "    \n",
    "    # Add the bitstring to the output string\n",
    "    op_str += first_bitstring\n",
    "    return op_str[:str_len]\n"
   ]
  },
  {
   "cell_type": "code",
   "execution_count": 21,
   "metadata": {},
   "outputs": [],
   "source": [
    "alice_key = get_random_string_from_job(\"cxa3b5wbqkhg00892a6g\",backend,10)\n",
    "alice_bases = get_random_string_from_job(\"cxa3awvpx23g008bxc10\",backend,10)\n",
    "bob_bases = get_random_string_from_job(\"cxa3ak2ztp30008g42qg\",backend,10)"
   ]
  },
  {
   "cell_type": "code",
   "execution_count": 15,
   "metadata": {},
   "outputs": [],
   "source": []
  },
  {
   "cell_type": "code",
   "execution_count": 22,
   "metadata": {},
   "outputs": [
    {
     "name": "stdout",
     "output_type": "stream",
     "text": [
      "Alice Key: 1110101011\n",
      "Alice Bases: 1010110011\n",
      "Bob Bases: 1101110001\n"
     ]
    }
   ],
   "source": [
    "print('Alice Key:', alice_key)\n",
    "print('Alice Bases:', alice_bases)\n",
    "print('Bob Bases:', bob_bases)"
   ]
  },
  {
   "cell_type": "code",
   "execution_count": 17,
   "metadata": {},
   "outputs": [
    {
     "data": {
      "text/plain": [
       "'1110101011'"
      ]
     },
     "execution_count": 17,
     "metadata": {},
     "output_type": "execute_result"
    }
   ],
   "source": [
    "op_str"
   ]
  },
  {
   "cell_type": "code",
   "execution_count": null,
   "metadata": {},
   "outputs": [],
   "source": [
    "# Step 1: Generate Alice's key and bases\n",
    "#alice_key = RandomString(len_message, backend)\n",
    "#alice_bases = RandomString(len_message, backend)\n",
    "print('Alice Key:', alice_key)\n",
    "print('Alice Bases:', alice_bases)"
   ]
  },
  {
   "cell_type": "code",
   "execution_count": 23,
   "metadata": {},
   "outputs": [
    {
     "data": {
      "text/plain": [
       "CircuitInstruction(operation=Instruction(name='barrier', num_qubits=10, num_clbits=0, params=[]), qubits=(Qubit(QuantumRegister(10, 'q4'), 0), Qubit(QuantumRegister(10, 'q4'), 1), Qubit(QuantumRegister(10, 'q4'), 2), Qubit(QuantumRegister(10, 'q4'), 3), Qubit(QuantumRegister(10, 'q4'), 4), Qubit(QuantumRegister(10, 'q4'), 5), Qubit(QuantumRegister(10, 'q4'), 6), Qubit(QuantumRegister(10, 'q4'), 7), Qubit(QuantumRegister(10, 'q4'), 8), Qubit(QuantumRegister(10, 'q4'), 9)), clbits=())"
      ]
     },
     "execution_count": 23,
     "metadata": {},
     "output_type": "execute_result"
    }
   ],
   "source": [
    "# Create quantum circuit\n",
    "q = QuantumRegister(len_message)\n",
    "c = ClassicalRegister(len_message)\n",
    "qc = QuantumCircuit(q, c)\n",
    "\n",
    "# Alice encodes qubits based on her key and basis\n",
    "for i in range(len_message):\n",
    "    if alice_key[i] == '1':\n",
    "        qc.x(q[i])  # Flip the qubit to 1 if key is 1\n",
    "    if alice_bases[i] == '1':\n",
    "        qc.h(q[i])  # Apply Hadamard gate if basis is 1\n",
    "qc.barrier()  # Barrier for visual separation"
   ]
  },
  {
   "cell_type": "code",
   "execution_count": null,
   "metadata": {},
   "outputs": [],
   "source": [
    "\n",
    "# Step 2: Bob's random basis selection\n",
    "#bob_bases = RandomString(len_message, backend)  # Bob generates random bases\n",
    "print('Bob Bases:', bob_bases)\n"
   ]
  },
  {
   "cell_type": "code",
   "execution_count": 24,
   "metadata": {},
   "outputs": [
    {
     "data": {
      "text/plain": [
       "<qiskit.circuit.instructionset.InstructionSet at 0x7f6a93786f80>"
      ]
     },
     "execution_count": 24,
     "metadata": {},
     "output_type": "execute_result"
    }
   ],
   "source": [
    "# Step 3: Bob measures the qubits\n",
    "for i in range(len_message):\n",
    "    if bob_bases[i] == '1':\n",
    "        qc.h(q[i])  # Bob applies Hadamard if measuring in Hadamard basis\n",
    "\n",
    "# Add measurements\n",
    "qc.measure(q, c)"
   ]
  },
  {
   "cell_type": "code",
   "execution_count": 26,
   "metadata": {},
   "outputs": [
    {
     "data": {
      "image/png": "[encoded data removed]",
      "text/plain": [
       "<Figure size 1309.26x953.167 with 1 Axes>"
      ]
     },
     "execution_count": 26,
     "metadata": {},
     "output_type": "execute_result"
    }
   ],
   "source": [
    "qc.draw('mpl')"
   ]
  },
  {
   "cell_type": "code",
   "execution_count": null,
   "metadata": {},
   "outputs": [
    {
     "name": "stdout",
     "output_type": "stream",
     "text": [
      "Job ID: cxa68tkpjw30008h5sq0\n"
     ]
    }
   ],
   "source": [
    "transpiled_circuit = transpile(qc, backend)\n",
    "# Run the quantum circuit using the Sampler\n",
    "sampler = SamplerV2(backend)\n",
    "sampler.options.update(default_shots=1)\n",
    "job = sampler.run([transpiled_circuit], shots=1)\n",
    "print(f\"Job ID: {job.job_id()}\")\n",
    "\n",
    "# Get the result from the quantum job\n",
    "result = job.result()\n",
    "data = result[0].data\n",
    "\n",
    "# Dynamically get the first (or any) key in the data dictionary\n",
    "bitarray = next(iter(data.values()))  # Get the BitArray object\n",
    "counts = bitarray.get_counts()  # Call get_counts() on the BitArray        \n",
    "# Extract the bitstring (the first key in the dictionary)\n",
    "data = next(iter(counts.keys()))  # This will give the first key (bitstring)\n"
   ]
  },
  {
   "cell_type": "code",
   "execution_count": null,
   "metadata": {},
   "outputs": [],
   "source": [
    "# Step 4: Bob's measurement results\n",
    "print(\"Measurement results:\", data)\n"
   ]
  },
  {
   "cell_type": "code",
   "execution_count": null,
   "metadata": {},
   "outputs": [],
   "source": [
    "qc.draw()"
   ]
  },
  {
   "cell_type": "code",
   "execution_count": null,
   "metadata": {},
   "outputs": [],
   "source": [
    "# Step 4: Optimization and execution using Qiskit Runtime and Sampler\n",
    "# Select the backend (you can use a real quantum device or a simulator)\n",
    "backend = service.least_busy(simulator=False, operational=True)\n",
    "\n",
    "# Optimize the circuit for the selected backend\n",
    "pm = generate_preset_pass_manager(optimization_level=1, backend=backend)\n",
    "optimized_circuit = pm.run(qc)\n",
    "print(\"Using backend:\", backend)"
   ]
  },
  {
   "cell_type": "code",
   "execution_count": null,
   "metadata": {},
   "outputs": [],
   "source": [
    "# Step 3: Bob measures the qubits\n",
    "for i in range(len_message):\n",
    "    if bob_bases[i] == '1':\n",
    "        qc.h(q[i])  # Bob applies Hadamard if measuring in Hadamard basis\n",
    "\n",
    "# Add measurements\n",
    "qc.measure(q, c)"
   ]
  },
  {
   "cell_type": "code",
   "execution_count": null,
   "metadata": {},
   "outputs": [],
   "source": [
    "# Use the SamplerV2 primitive to run the optimized circuit\n",
    "sampler = Sampler(mode=backend)\n",
    "\n",
    "# Run the sampler to get the result of the measurements\n",
    "job = sampler.run([optimized_circuit],shots=1)  # Empty list for non-parametric circuit\n",
    "print(f\">>> Job ID: {job.job_id()}\")\n",
    "\n",
    "# Wait for the job to complete and fetch the results\n",
    "result = job.result()"
   ]
  },
  {
   "cell_type": "code",
   "execution_count": 19,
   "metadata": {},
   "outputs": [
    {
     "ename": "NameError",
     "evalue": "name 'result' is not defined",
     "output_type": "error",
     "traceback": [
      "\u001b[0;31m---------------------------------------------------------------------------\u001b[0m",
      "\u001b[0;31mNameError\u001b[0m                                 Traceback (most recent call last)",
      "Cell \u001b[0;32mIn[19], line 1\u001b[0m\n\u001b[0;32m----> 1\u001b[0m \u001b[38;5;28mprint\u001b[39m(\u001b[43mresult\u001b[49m[\u001b[38;5;241m0\u001b[39m]\u001b[38;5;241m.\u001b[39mdata\u001b[38;5;241m.\u001b[39mc19\u001b[38;5;241m.\u001b[39mget_counts())\n",
      "\u001b[0;31mNameError\u001b[0m: name 'result' is not defined"
     ]
    }
   ],
   "source": [
    "print(result[0].data.c19.get_counts())"
   ]
  },
  {
   "cell_type": "code",
   "execution_count": 158,
   "metadata": {},
   "outputs": [
    {
     "name": "stdout",
     "output_type": "stream",
     "text": [
      "Final Shared Key: 1101111111\n",
      "Percentage of key bits retained:  100.0 %\n"
     ]
    }
   ],
   "source": [
    "bit_strings = result[0].data.c19.get_counts()  # Get the counts of measured bit strings\n",
    "shared_key = []\n",
    "\n",
    "# Go through each bit string and match the bases\n",
    "for bit_string, count in bit_strings.items():\n",
    "    # Iterate through each position and check if Alice's and Bob's bases match\n",
    "    for i in range(len_message):\n",
    "        if alice_bases[i] == bob_bases[i]:  # Only keep the bit if bases match\n",
    "            # Append the corresponding bit from the bit string\n",
    "            shared_key.append(bit_string[len_message - i - 1])  # Reverse the order in Qiskit\n",
    "\n",
    "# Final shared key as a string\n",
    "final_shared_key = ''.join(shared_key)\n",
    "print('Final Shared Key:', final_shared_key)\n",
    "\n",
    "# Calculate the percentage of key bits retained\n",
    "matching_bits_count = len(final_shared_key)\n",
    "percentage_retained = (matching_bits_count / len_message) * 100\n",
    "print(\"Percentage of key bits retained: \", percentage_retained, \"%\")"
   ]
  },
  {
   "cell_type": "markdown",
   "metadata": {},
   "source": [
    "## Results"
   ]
  },
  {
   "cell_type": "code",
   "execution_count": 84,
   "metadata": {},
   "outputs": [
    {
     "name": "stdout",
     "output_type": "stream",
     "text": [
      "Pub Result Counts for 'c15': {'11111': 3752, '11011': 62, '01111': 69, '11110': 57, '10111': 62, '11101': 83, '00111': 2, '01101': 3, '11001': 2, '11010': 1, '10101': 2, '11100': 1}\n",
      "Final Shared Key: 11111\n",
      "Percentage of key bits retained:  100.0 %\n"
     ]
    }
   ],
   "source": [
    "pub_result = result[0].data['c15'].get_counts()\n",
    "print(f\"Pub Result Counts for 'c15': {pub_result}\")\n",
    "\n",
    "# Convert counts to list of possible outcomes (bit strings)\n",
    "bit_strings = list(pub_result.keys())\n",
    "\n",
    "# Initialize shared key list\n",
    "shared_key = []\n",
    "\n",
    "# Process each bit string based on Alice's and Bob's bases\n",
    "for i in range(len_message):\n",
    "    if alice_bases[i] == bob_bases[i]:  # Only keep the bit if bases match\n",
    "        # Retrieve the corresponding bit from the measurement outcome (consider reversed order)\n",
    "        outcome = bit_strings[0]  # Assuming the most frequent outcome, use a different method if needed\n",
    "        shared_key.append(outcome[len_message - i - 1])  # Reverse the order in Qiskit\n",
    "\n",
    "# Final shared key as a string\n",
    "final_shared_key = ''.join(shared_key)\n",
    "print('Final Shared Key:', final_shared_key)\n",
    "\n",
    "# Calculate the percentage of key bits retained\n",
    "matching_bits_count = len(final_shared_key)\n",
    "percentage_retained = (matching_bits_count / len_message) * 100\n",
    "print(\"Percentage of key bits retained: \", percentage_retained, \"%\")"
   ]
  },
  {
   "cell_type": "code",
   "execution_count": 78,
   "metadata": {},
   "outputs": [
    {
     "name": "stdout",
     "output_type": "stream",
     "text": [
      "Classical Registers: [ClassicalRegister(5, 'c15')]\n"
     ]
    }
   ],
   "source": [
    "# Access classical registers used in the circuit\n",
    "classical_registers = optimized_circuit.cregs\n",
    "print(f\"Classical Registers: {classical_registers}\")"
   ]
  },
  {
   "cell_type": "code",
   "execution_count": 97,
   "metadata": {},
   "outputs": [],
   "source": [
    "pub_result = result[0]"
   ]
  },
  {
   "cell_type": "code",
   "execution_count": 104,
   "metadata": {},
   "outputs": [
    {
     "name": "stdout",
     "output_type": "stream",
     "text": [
      "Measured Data (Raw BitArray): BitArray(<shape=(), num_shots=4096, num_bits=6>)\n"
     ]
    }
   ],
   "source": [
    "measured_data = result[0].data.c16\n",
    "print('Measured Data (Raw BitArray):', measured_data)"
   ]
  },
  {
   "cell_type": "code",
   "execution_count": 107,
   "metadata": {},
   "outputs": [
    {
     "name": "stdout",
     "output_type": "stream",
     "text": [
      "Measured Data (Raw BitArray): BitArray(<shape=(), num_shots=4096, num_bits=6>)\n"
     ]
    }
   ],
   "source": [
    "measured_data = result[0].data['c16']  # Assuming 'c16' is the classical register for measurements\n",
    "print('Measured Data (Raw BitArray):', measured_data)"
   ]
  },
  {
   "cell_type": "code",
   "execution_count": 109,
   "metadata": {},
   "outputs": [
    {
     "ename": "AttributeError",
     "evalue": "'BitArray' object has no attribute 'bin'",
     "output_type": "error",
     "traceback": [
      "\u001b[0;31m---------------------------------------------------------------------------\u001b[0m",
      "\u001b[0;31mAttributeError\u001b[0m                            Traceback (most recent call last)",
      "Cell \u001b[0;32mIn[109], line 1\u001b[0m\n\u001b[0;32m----> 1\u001b[0m bit_strings \u001b[38;5;241m=\u001b[39m \u001b[43mmeasured_data\u001b[49m\u001b[38;5;241;43m.\u001b[39;49m\u001b[43mbin\u001b[49m() \u001b[38;5;66;03m# You can also use .hex() for hexadecimal representation\u001b[39;00m\n",
      "\u001b[0;31mAttributeError\u001b[0m: 'BitArray' object has no attribute 'bin'"
     ]
    }
   ],
   "source": [
    "bit_strings = measured_data.bin() # You can also use .hex() for hexadecimal representation"
   ]
  },
  {
   "cell_type": "code",
   "execution_count": null,
   "metadata": {},
   "outputs": [
    {
     "ename": "AttributeError",
     "evalue": "'DataBin' object has no attribute 'meas'",
     "output_type": "error",
     "traceback": [
      "\u001b[0;31m---------------------------------------------------------------------------\u001b[0m",
      "\u001b[0;31mAttributeError\u001b[0m                            Traceback (most recent call last)",
      "Cell \u001b[0;32mIn[69], line 2\u001b[0m\n\u001b[1;32m      1\u001b[0m \u001b[38;5;66;03m# Fetch the measured results\u001b[39;00m\n\u001b[0;32m----> 2\u001b[0m bob_result \u001b[38;5;241m=\u001b[39m \u001b[43mresult\u001b[49m\u001b[43m[\u001b[49m\u001b[38;5;241;43m0\u001b[39;49m\u001b[43m]\u001b[49m\u001b[38;5;241;43m.\u001b[39;49m\u001b[43mdata\u001b[49m\u001b[38;5;241;43m.\u001b[39;49m\u001b[43mmeas\u001b[49m\u001b[38;5;241m.\u001b[39mget_counts()\n\u001b[1;32m      3\u001b[0m \u001b[38;5;28mprint\u001b[39m(\u001b[38;5;124m'\u001b[39m\u001b[38;5;124mBob Measurement Result:\u001b[39m\u001b[38;5;124m'\u001b[39m, bob_result)\n\u001b[1;32m      5\u001b[0m \u001b[38;5;66;03m# Process the result and extract the shared key\u001b[39;00m\n",
      "\u001b[0;31mAttributeError\u001b[0m: 'DataBin' object has no attribute 'meas'"
     ]
    }
   ],
   "source": [
    "# Process the result and extract the shared key\n",
    "shared_key = []\n",
    "for i in range(len_message):\n",
    "    if alice_bases[i] == bob_bases[i]:  # Only keep the bit if bases match\n",
    "        shared_key.append(bob_result[len_message - i - 1])  # Reverse order in Qiskit\n",
    "\n",
    "final_shared_key = ''.join(shared_key)\n",
    "print('Final Shared Key:', final_shared_key)\n",
    "\n",
    "# Calculate the percentage of key bits retained\n",
    "matching_bits_count = len(final_shared_key)\n",
    "percentage_retained = (matching_bits_count / len_message) * 100\n",
    "print(\"Percentage of key bits retained: \", percentage_retained, \"%\")"
   ]
  },
  {
   "cell_type": "markdown",
   "metadata": {},
   "source": [
    "### Optimisization"
   ]
  },
  {
   "cell_type": "code",
   "execution_count": 7,
   "metadata": {},
   "outputs": [
    {
     "ename": "NameError",
     "evalue": "name 'QuantumCircuit' is not defined",
     "output_type": "error",
     "traceback": [
      "\u001b[0;31m---------------------------------------------------------------------------\u001b[0m",
      "\u001b[0;31mNameError\u001b[0m                                 Traceback (most recent call last)",
      "Cell \u001b[0;32mIn[7], line 1\u001b[0m\n\u001b[0;32m----> 1\u001b[0m qc\u001b[38;5;241m=\u001b[39m \u001b[43mQuantumCircuit\u001b[49m(\u001b[38;5;241m2\u001b[39m)\n",
      "\u001b[0;31mNameError\u001b[0m: name 'QuantumCircuit' is not defined"
     ]
    }
   ],
   "source": [
    "qc= QuantumCircuit(2)"
   ]
  },
  {
   "cell_type": "code",
   "execution_count": 83,
   "metadata": {},
   "outputs": [
    {
     "ename": "AttributeError",
     "evalue": "'DataBin' object has no attribute 'meas'",
     "output_type": "error",
     "traceback": [
      "\u001b[0;31m---------------------------------------------------------------------------\u001b[0m",
      "\u001b[0;31mAttributeError\u001b[0m                            Traceback (most recent call last)",
      "Cell \u001b[0;32mIn[83], line 1\u001b[0m\n\u001b[0;32m----> 1\u001b[0m counts \u001b[38;5;241m=\u001b[39m \u001b[43mresult\u001b[49m\u001b[43m[\u001b[49m\u001b[38;5;241;43m0\u001b[39;49m\u001b[43m]\u001b[49m\u001b[38;5;241;43m.\u001b[39;49m\u001b[43mdata\u001b[49m\u001b[38;5;241;43m.\u001b[39;49m\u001b[43mmeas\u001b[49m\u001b[38;5;241m.\u001b[39mget_counts()\n\u001b[1;32m      2\u001b[0m \u001b[38;5;28mprint\u001b[39m(\u001b[38;5;124m\"\u001b[39m\u001b[38;5;124mMeasured Counts:\u001b[39m\u001b[38;5;124m\"\u001b[39m, counts)\n",
      "\u001b[0;31mAttributeError\u001b[0m: 'DataBin' object has no attribute 'meas'"
     ]
    }
   ],
   "source": [
    "counts = result[0].data.meas.get_counts()\n",
    "print(\"Measured Counts:\", counts)"
   ]
  }
 ],
 "metadata": {
  "colab": {
   "provenance": []
  },
  "kernelspec": {
   "display_name": "Python 3 (ipykernel)",
   "language": "python",
   "name": "python3"
  },
  "language_info": {
   "codemirror_mode": {
    "name": "ipython",
    "version": 3
   },
   "file_extension": ".py",
   "mimetype": "text/x-python",
   "name": "python",
   "nbconvert_exporter": "python",
   "pygments_lexer": "ipython3",
   "version": "3.12.7"
  }
 },
 "nbformat": 4,
 "nbformat_minor": 4
}
