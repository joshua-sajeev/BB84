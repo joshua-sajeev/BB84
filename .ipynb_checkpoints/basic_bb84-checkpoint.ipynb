{
 "cells": [
  {
   "cell_type": "code",
   "execution_count": 7,
   "metadata": {},
   "outputs": [],
   "source": [
    "token= \"7e26ec32cd7f9d0360074245e26ad8450e143e95125cb0c0c7d31b39422d45b7c7908a5c8da78d5db9fdd87209c228e7702643957c9f39c12166f7454770e89d\"\n",
    "from qiskit_ibm_runtime import QiskitRuntimeService\n",
    " \n",
    "QiskitRuntimeService.save_account(\n",
    "  token=token,\n",
    "  channel=\"ibm_quantum\",\n",
    "  overwrite=True\n",
    ")"
   ]
  },
  {
   "cell_type": "code",
   "execution_count": null,
   "metadata": {
    "id": "2i71EpqzAd-r"
   },
   "outputs": [],
   "source": [
    "import math\n",
    "from qiskit import QuantumCircuit, QuantumRegister, ClassicalRegister\n",
    "from qiskit_aer import AerSimulator\n",
    "from qiskit import transpile\n",
    "import matplotlib.pyplot as plt\n",
    "from qiskit.transpiler.preset_passmanagers import generate_preset_pass_manager"
   ]
  },
  {
   "cell_type": "code",
   "execution_count": null,
   "metadata": {},
   "outputs": [],
   "source": [
    "# Load saved credentials\n",
    "service = QiskitRuntimeService()\n",
    "\n",
    "# Choose a backend (least busy operational quantum hardware)\n",
    "backend = service.least_busy(operational=True, simulator=False)\n",
    "print(\"Selected backend:\", backend)"
   ]
  },
  {
   "cell_type": "markdown",
   "metadata": {},
   "source": [
    "## Runtime Example"
   ]
  },
  {
   "cell_type": "code",
   "execution_count": 4,
   "metadata": {},
   "outputs": [
    {
     "name": "stdout",
     "output_type": "stream",
     "text": [
      "job id: cx9wz85ztp30008g3ht0\n",
      "PrimitiveResult([SamplerPubResult(data=DataBin(meas=BitArray(<shape=(), num_shots=4096, num_bits=2>)), metadata={'circuit_metadata': {}})], metadata={'execution': {'execution_spans': ExecutionSpans([SliceSpan(<start='2024-12-07 04:31:31', stop='2024-12-07 04:31:44', size=4096>)])}, 'version': 2})\n"
     ]
    }
   ],
   "source": [
    "from qiskit import QuantumCircuit\n",
    "from qiskit_ibm_runtime import QiskitRuntimeService, SamplerV2 as Sampler\n",
    " \n",
    "# Create empty circuit\n",
    "example_circuit = QuantumCircuit(2)\n",
    "example_circuit.measure_all()\n",
    " \n",
    "# You'll need to specify the credentials when initializing QiskitRuntimeService, if they were not previously saved.\n",
    "service = QiskitRuntimeService()\n",
    "backend = service.least_busy(operational=True, simulator=False)\n",
    " \n",
    "sampler = Sampler(backend)\n",
    "job = sampler.run([example_circuit])\n",
    "print(f\"job id: {job.job_id()}\")\n",
    "result = job.result()\n",
    "print(result)"
   ]
  },
  {
   "cell_type": "markdown",
   "metadata": {},
   "source": [
    "# Implementation"
   ]
  },
  {
   "cell_type": "markdown",
   "metadata": {},
   "source": [
    "## Random number generator"
   ]
  },
  {
   "cell_type": "code",
   "execution_count": null,
   "metadata": {},
   "outputs": [],
   "source": [
    "from qiskit_ibm_runtime import SamplerV2 as Sampler\n",
    " \n",
    "sampler = Sampler(mode=backend)"
   ]
  },
  {
   "cell_type": "code",
   "execution_count": 50,
   "metadata": {},
   "outputs": [],
   "source": [
    "def RandomString(str_len, backend, task):\n",
    "    print(task)\n",
    "    op_str = ''  # Initialize an empty output string\n",
    "    num_qbits = 5  # Define number of qubits\n",
    "\n",
    "    # Calculate the number of chunks needed\n",
    "    num_chunks = math.ceil(str_len / num_qbits)\n",
    "    print(f\"Number of chunks: {num_chunks}\")\n",
    "    \n",
    "    for _ in range(num_chunks):\n",
    "        # Create a quantum register and classical register\n",
    "        q = QuantumRegister(num_qbits)\n",
    "        c = ClassicalRegister(num_qbits)\n",
    "        QC = QuantumCircuit(q, c)\n",
    "\n",
    "        # Apply Hadamard gates to all qubits to create superposition\n",
    "        for i in range(num_qbits):\n",
    "            QC.h(q[i])  # Apply Hadamard gate to each qubit\n",
    "\n",
    "        QC.measure(q, c)  # Measure the qubits into the classical register\n",
    "\n",
    "        # Transpile for real backend\n",
    "        circ = transpile(QC, backend)\n",
    "        \n",
    "        # Run the job on the backend\n",
    "        job = backend.run(circ, shots=1, memory=True)\n",
    "        result = job.result()\n",
    "\n",
    "        # Fetch the measured results from the job's memory\n",
    "        memory = result.get_memory()\n",
    "\n",
    "        op_str += memory[0]  # Append the measured result to op_str\n",
    "\n",
    "    return op_str[:str_len]  # Return the full random string, truncated to the required length"
   ]
  },
  {
   "cell_type": "markdown",
   "metadata": {},
   "source": [
    "## Initialize Qiskit Runtime Service"
   ]
  },
  {
   "cell_type": "code",
   "execution_count": 40,
   "metadata": {},
   "outputs": [
    {
     "name": "stdout",
     "output_type": "stream",
     "text": [
      "Using backend: <IBMBackend('ibm_brisbane')>\n"
     ]
    }
   ],
   "source": [
    "service = QiskitRuntimeService()\n",
    "backend = service.least_busy(operational=True, simulator=False)\n",
    "print(\"Using backend:\", backend)"
   ]
  },
  {
   "cell_type": "markdown",
   "metadata": {},
   "source": [
    "### Function check"
   ]
  },
  {
   "cell_type": "code",
   "execution_count": 14,
   "metadata": {},
   "outputs": [],
   "source": [
    "#str_len = 15\n",
    "#random_key = RandomString(str_len, backend)\n",
    "#print(\"Generated Random String:\", random_key)"
   ]
  },
  {
   "cell_type": "markdown",
   "metadata": {},
   "source": [
    "## Get Alice key,Bases"
   ]
  },
  {
   "cell_type": "code",
   "execution_count": 51,
   "metadata": {},
   "outputs": [
    {
     "name": "stdin",
     "output_type": "stream",
     "text": [
      "Enter a short message (default message is \"Hello World\"):  \n"
     ]
    },
    {
     "name": "stdout",
     "output_type": "stream",
     "text": [
      "Message to be sent: Hello\n",
      "Length of the encryption key:  5\n"
     ]
    }
   ],
   "source": [
    "message = input('Enter a short message (default message is \"Hello World\"): ')\n",
    "if len(message) < 1:\n",
    "    message = 'Hello'\n",
    "print('Message to be sent:', message)\n",
    "\n",
    "# Define key length (for demo, use a shorter length)\n",
    "len_message = len(message)\n",
    "print(\"Length of the encryption key: \", len_message)"
   ]
  },
  {
   "cell_type": "code",
   "execution_count": null,
   "metadata": {},
   "outputs": [
    {
     "name": "stdout",
     "output_type": "stream",
     "text": [
      "Alice-key\n",
      "Number of chunks: 1\n"
     ]
    },
    {
     "name": "stderr",
     "output_type": "stream",
     "text": [
      "/tmp/ipykernel_10415/4223506194.py:31: DeprecationWarning: backend.run() and related sessions methods are deprecated  as of qiskit-ibm-runtime 0.23 and will be removed no sooner than 6 months after the release date. More details can be found in the primitives migration guide https://docs.quantum.ibm.com/migration-guides/qiskit-runtime.\n",
      "  job = backend.run(transpiled_circuit, shots=1, memory=True)\n"
     ]
    }
   ],
   "source": [
    "# Step 1: Generate Alice's key and bases\n",
    "alice_key = RandomString(len_message,backend,\"Alice-key\")"
   ]
  },
  {
   "cell_type": "code",
   "execution_count": null,
   "metadata": {},
   "outputs": [],
   "source": [
    "alice_bases = RandomString(len_message,backend,\"Alice-bases\")\n",
    "print('Alice Key:', alice_key)\n",
    "print('Alice Bases:', alice_bases)"
   ]
  },
  {
   "cell_type": "markdown",
   "metadata": {},
   "source": [
    "### Optimisization"
   ]
  },
  {
   "cell_type": "code",
   "execution_count": 20,
   "metadata": {},
   "outputs": [],
   "source": [
    "from qiskit_ibm_runtime import Sampler"
   ]
  },
  {
   "cell_type": "code",
   "execution_count": 22,
   "metadata": {},
   "outputs": [
    {
     "name": "stdout",
     "output_type": "stream",
     "text": [
      "15\n"
     ]
    }
   ],
   "source": []
  },
  {
   "cell_type": "code",
   "execution_count": null,
   "metadata": {},
   "outputs": [],
   "source": []
  }
 ],
 "metadata": {
  "colab": {
   "provenance": []
  },
  "kernelspec": {
   "display_name": "Python 3 (ipykernel)",
   "language": "python",
   "name": "python3"
  },
  "language_info": {
   "codemirror_mode": {
    "name": "ipython",
    "version": 3
   },
   "file_extension": ".py",
   "mimetype": "text/x-python",
   "name": "python",
   "nbconvert_exporter": "python",
   "pygments_lexer": "ipython3",
   "version": "3.12.7"
  }
 },
 "nbformat": 4,
 "nbformat_minor": 4
}
