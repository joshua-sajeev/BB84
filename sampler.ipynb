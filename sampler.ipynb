{
 "cells": [
  {
   "cell_type": "code",
   "execution_count": 2,
   "id": "dca1de9f-ff3e-4263-a1ba-e6481e2acf1c",
   "metadata": {},
   "outputs": [],
   "source": [
    "from qiskit import QuantumCircuit\n",
    "import math"
   ]
  },
  {
   "cell_type": "code",
   "execution_count": 2,
   "id": "1bdf758c-6d4c-4818-bfa7-89dd4c6c5dd4",
   "metadata": {},
   "outputs": [
    {
     "data": {
      "image/png": "[encoded data removed]",
      "text/plain": [
       "<Figure size 580.387x284.278 with 1 Axes>"
      ]
     },
     "execution_count": 2,
     "metadata": {},
     "output_type": "execute_result"
    }
   ],
   "source": [
    "qc = QuantumCircuit(2)\n",
    "qc.h(0)\n",
    "qc.cx(0,1)\n",
    "qc.measure_all()\n",
    "\n",
    "qc.draw('mpl')"
   ]
  },
  {
   "cell_type": "code",
   "execution_count": 3,
   "id": "e41e61e1-ebf2-41c7-8b87-9496262449ef",
   "metadata": {},
   "outputs": [],
   "source": [
    "from qiskit.primitives import Sampler"
   ]
  },
  {
   "cell_type": "code",
   "execution_count": 9,
   "id": "f4f92f56-0fda-4a58-99fd-572e87520260",
   "metadata": {},
   "outputs": [],
   "source": [
    "token= \"90c11c3427d32b9170daa73f5fffe26dc68634b8b6f0d8e5a83082726bd42c2d384e16c5ea3f3ed03f5cb71156de8fb4ba9b3880f9f990c6ed2d275f315de5d3\"\n",
    "from qiskit_ibm_runtime import QiskitRuntimeService\n",
    " \n",
    "QiskitRuntimeService.save_account(\n",
    "  token=token,\n",
    "  channel=\"ibm_quantum\",\n",
    "  overwrite=True\n",
    ")"
   ]
  },
  {
   "cell_type": "code",
   "execution_count": 6,
   "id": "f862b1e3-7562-4d49-9a99-9eed4e5511a2",
   "metadata": {},
   "outputs": [
    {
     "name": "stdout",
     "output_type": "stream",
     "text": [
      "Selected backend: <IBMBackend('ibm_brisbane')>\n"
     ]
    }
   ],
   "source": [
    "from qiskit_ibm_runtime import QiskitRuntimeService\n",
    "\n",
    "service = QiskitRuntimeService()\n",
    "backend = service.least_busy(operational=True, simulator=False)\n",
    "print(\"Selected backend:\", backend)"
   ]
  },
  {
   "cell_type": "code",
   "execution_count": 4,
   "id": "c84bad19-2e8a-4cd0-98f9-6e0f5edcae76",
   "metadata": {},
   "outputs": [],
   "source": [
    "from qiskit import QuantumCircuit, QuantumRegister, ClassicalRegister, transpile\n",
    "bell_meas = QuantumCircuit(2)\n",
    "bell_meas.h(0)\n",
    "bell_meas.cx(0,1)\n",
    "bell_meas.measure_all()"
   ]
  },
  {
   "cell_type": "code",
   "execution_count": 13,
   "id": "be47cd91-d970-442c-bf99-906020440137",
   "metadata": {},
   "outputs": [],
   "source": [
    "isa_bell_meas = transpile(bell_meas, backend)\n",
    "\n",
    "pub_bell_meas = (isa_bell_meas,)"
   ]
  },
  {
   "cell_type": "code",
   "execution_count": 6,
   "id": "42aa370f-569d-4578-bbd0-085d97573f4c",
   "metadata": {},
   "outputs": [
    {
     "ename": "AttributeError",
     "evalue": "'DataBin' object has no attribute 'meas'",
     "output_type": "error",
     "traceback": [
      "\u001b[0;31m---------------------------------------------------------------------------\u001b[0m",
      "\u001b[0;31mAttributeError\u001b[0m                            Traceback (most recent call last)",
      "Cell \u001b[0;32mIn[6], line 8\u001b[0m\n\u001b[1;32m      6\u001b[0m result_bell_meas \u001b[38;5;241m=\u001b[39m job_bell_meas\u001b[38;5;241m.\u001b[39mresult()\n\u001b[1;32m      7\u001b[0m data_bell_meas \u001b[38;5;241m=\u001b[39m result_bell_meas[\u001b[38;5;241m0\u001b[39m]\u001b[38;5;241m.\u001b[39mdata\n\u001b[0;32m----> 8\u001b[0m \u001b[43mdata_bell_meas\u001b[49m\u001b[38;5;241;43m.\u001b[39;49m\u001b[43mmeas\u001b[49m\n",
      "\u001b[0;31mAttributeError\u001b[0m: 'DataBin' object has no attribute 'meas'"
     ]
    }
   ],
   "source": [
    "from qiskit_ibm_runtime  import SamplerV2\n",
    "\n",
    "sampler = SamplerV2(backend)\n",
    "job_bell_meas = sampler.run([pub_bell_meas],shots = 10)\n",
    "\n",
    "result_bell_meas = job_bell_meas.result()\n",
    "data_bell_meas = result_bell_meas[0].data\n",
    "data_bell_meas.meas"
   ]
  },
  {
   "cell_type": "code",
   "execution_count": 17,
   "id": "92ea419a-eda9-4ea1-a930-e7464e068556",
   "metadata": {},
   "outputs": [
    {
     "data": {
      "text/plain": [
       "BitArray(<shape=(), num_shots=10, num_bits=2>)"
      ]
     },
     "execution_count": 17,
     "metadata": {},
     "output_type": "execute_result"
    }
   ],
   "source": [
    "data_bell_meas.meas"
   ]
  },
  {
   "cell_type": "code",
   "execution_count": 33,
   "id": "bf7c6087-b319-4560-ad74-0124cd0c4ac0",
   "metadata": {},
   "outputs": [
    {
     "name": "stdout",
     "output_type": "stream",
     "text": [
      "Selected backend: <IBMBackend('ibm_brisbane')>\n",
      "DataBin(c4=BitArray(<shape=(), num_shots=1, num_bits=10>))\n"
     ]
    }
   ],
   "source": [
    "op_str = ''  # Initialize an empty output string\n",
    "num_qbits = 10  # Define number of qubits\n",
    "str_len = 10\n",
    "# Calculate the number of chunks needed\n",
    "num_chunks = math.ceil(str_len / num_qbits)\n",
    "for _ in range(num_chunks):\n",
    "    # Create a quantum register and classical register\n",
    "    q = QuantumRegister(num_qbits)\n",
    "    c = ClassicalRegister(num_qbits)\n",
    "    QC = QuantumCircuit(q, c)\n",
    "    service = QiskitRuntimeService()\n",
    "    backend = service.least_busy(operational=True, simulator=False)\n",
    "    print(\"Selected backend:\", backend)\n",
    "    # Apply Hadamard gates to all qubits to create superposition\n",
    "    for i in range(num_qbits):\n",
    "        QC.h(q[i])\n",
    "    QC.measure(q, c)\n",
    "    isa_bell_meas = transpile(QC, backend)\n",
    "\n",
    "    pub_bell_meas = (isa_bell_meas,)\n",
    "    sampler = SamplerV2(backend)\n",
    "    sampler.options.update(default_shots=1)\n",
    "    job_bell_meas = sampler.run([pub_bell_meas],shots = 1)\n",
    "    print(f\"job id: {job_bell_meas.job_id()}\")\n",
    "\n",
    "    result_bell_meas = job_bell_meas.result()\n",
    "    data_bell_meas = result_bell_meas[0].data\n",
    "    print(data_bell_meas)"
   ]
  },
  {
   "cell_type": "code",
   "execution_count": 31,
   "id": "dc30c4ca-051c-48b4-87fa-9a0f80231082",
   "metadata": {},
   "outputs": [
    {
     "name": "stdout",
     "output_type": "stream",
     "text": [
      "{'0101101001': 1, '0001101100': 1, '0111101111': 1, '1010100100': 1, '0110111111': 1, '0000111011': 1, '1000000010': 1, '0101101000': 1, '0110110111': 1, '0011111000': 1}\n"
     ]
    }
   ],
   "source": [
    "print(data_bell_meas.c3.get_counts())"
   ]
  },
  {
   "cell_type": "code",
   "execution_count": 34,
   "id": "52f41bcf-f8fb-4a98-bc0a-960a3b60777b",
   "metadata": {},
   "outputs": [
    {
     "name": "stdout",
     "output_type": "stream",
     "text": [
      "{'1011110100': 1}\n"
     ]
    }
   ],
   "source": [
    "# Dynamically get the first (or any) key in the data_bell_meas dictionary\n",
    "bitarray = next(iter(data_bell_meas.values()))  # Get the BitArray object\n",
    "counts = bitarray.get_counts()  # Call get_counts() on the BitArray\n",
    "print(counts)\n"
   ]
  },
  {
   "cell_type": "code",
   "execution_count": 35,
   "id": "3dff35c4-44a9-48e1-8426-4afca3fee408",
   "metadata": {},
   "outputs": [],
   "source": [
    "first_bitstring = next(iter(counts.keys()))  # This will give the first key (bitstring)"
   ]
  },
  {
   "cell_type": "code",
   "execution_count": 36,
   "id": "798d45f0-42e8-45cc-b51b-e3e4e61fe24f",
   "metadata": {},
   "outputs": [
    {
     "data": {
      "text/plain": [
       "'1011110100'"
      ]
     },
     "execution_count": 36,
     "metadata": {},
     "output_type": "execute_result"
    }
   ],
   "source": [
    "first_bitstring"
   ]
  },
  {
   "cell_type": "code",
   "execution_count": null,
   "id": "18875bca-eef3-443e-a9d8-52485854f759",
   "metadata": {},
   "outputs": [],
   "source": []
  }
 ],
 "metadata": {
  "kernelspec": {
   "display_name": "Python 3 (ipykernel)",
   "language": "python",
   "name": "python3"
  },
  "language_info": {
   "codemirror_mode": {
    "name": "ipython",
    "version": 3
   },
   "file_extension": ".py",
   "mimetype": "text/x-python",
   "name": "python",
   "nbconvert_exporter": "python",
   "pygments_lexer": "ipython3",
   "version": "3.12.7"
  }
 },
 "nbformat": 4,
 "nbformat_minor": 5
}
