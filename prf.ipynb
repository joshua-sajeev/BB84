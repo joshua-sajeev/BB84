{
  "cells": [
    {
      "cell_type": "code",
      "execution_count": 4,
      "id": "rYZKqJC8UW0S",
      "metadata": {
        "colab": {
          "base_uri": "https://localhost:8080/"
        },
        "id": "rYZKqJC8UW0S",
        "outputId": "71f72b0f-bfac-45b7-e6c5-d47983d5ed50"
      },
      "outputs": [
        {
          "output_type": "stream",
          "name": "stdout",
          "text": [
            "Collecting qiskit\n",
            "  Downloading qiskit-1.3.1-cp39-abi3-manylinux_2_17_x86_64.manylinux2014_x86_64.whl.metadata (12 kB)\n",
            "Collecting qiskit_aer\n",
            "  Downloading qiskit_aer-0.15.1-cp311-cp311-manylinux_2_17_x86_64.manylinux2014_x86_64.whl.metadata (8.0 kB)\n",
            "Collecting rustworkx>=0.15.0 (from qiskit)\n",
            "  Downloading rustworkx-0.15.1-cp38-abi3-manylinux_2_17_x86_64.manylinux2014_x86_64.whl.metadata (9.9 kB)\n",
            "Requirement already satisfied: numpy<3,>=1.17 in /usr/local/lib/python3.11/dist-packages (from qiskit) (1.26.4)\n",
            "Requirement already satisfied: scipy>=1.5 in /usr/local/lib/python3.11/dist-packages (from qiskit) (1.13.1)\n",
            "Requirement already satisfied: sympy>=1.3 in /usr/local/lib/python3.11/dist-packages (from qiskit) (1.13.1)\n",
            "Collecting dill>=0.3 (from qiskit)\n",
            "  Downloading dill-0.3.9-py3-none-any.whl.metadata (10 kB)\n",
            "Requirement already satisfied: python-dateutil>=2.8.0 in /usr/local/lib/python3.11/dist-packages (from qiskit) (2.8.2)\n",
            "Collecting stevedore>=3.0.0 (from qiskit)\n",
            "  Downloading stevedore-5.4.0-py3-none-any.whl.metadata (2.3 kB)\n",
            "Requirement already satisfied: typing-extensions in /usr/local/lib/python3.11/dist-packages (from qiskit) (4.12.2)\n",
            "Collecting symengine<0.14,>=0.11 (from qiskit)\n",
            "  Downloading symengine-0.13.0-cp311-cp311-manylinux_2_17_x86_64.manylinux2014_x86_64.whl.metadata (1.2 kB)\n",
            "Requirement already satisfied: psutil>=5 in /usr/local/lib/python3.11/dist-packages (from qiskit_aer) (5.9.5)\n",
            "Requirement already satisfied: six>=1.5 in /usr/local/lib/python3.11/dist-packages (from python-dateutil>=2.8.0->qiskit) (1.17.0)\n",
            "Collecting pbr>=2.0.0 (from stevedore>=3.0.0->qiskit)\n",
            "  Downloading pbr-6.1.0-py2.py3-none-any.whl.metadata (3.4 kB)\n",
            "Requirement already satisfied: mpmath<1.4,>=1.1.0 in /usr/local/lib/python3.11/dist-packages (from sympy>=1.3->qiskit) (1.3.0)\n",
            "Downloading qiskit-1.3.1-cp39-abi3-manylinux_2_17_x86_64.manylinux2014_x86_64.whl (6.7 MB)\n",
            "\u001b[2K   \u001b[90m━━━━━━━━━━━━━━━━━━━━━━━━━━━━━━━━━━━━━━━━\u001b[0m \u001b[32m6.7/6.7 MB\u001b[0m \u001b[31m49.7 MB/s\u001b[0m eta \u001b[36m0:00:00\u001b[0m\n",
            "\u001b[?25hDownloading qiskit_aer-0.15.1-cp311-cp311-manylinux_2_17_x86_64.manylinux2014_x86_64.whl (12.3 MB)\n",
            "\u001b[2K   \u001b[90m━━━━━━━━━━━━━━━━━━━━━━━━━━━━━━━━━━━━━━━━\u001b[0m \u001b[32m12.3/12.3 MB\u001b[0m \u001b[31m60.7 MB/s\u001b[0m eta \u001b[36m0:00:00\u001b[0m\n",
            "\u001b[?25hDownloading dill-0.3.9-py3-none-any.whl (119 kB)\n",
            "\u001b[2K   \u001b[90m━━━━━━━━━━━━━━━━━━━━━━━━━━━━━━━━━━━━━━━━\u001b[0m \u001b[32m119.4/119.4 kB\u001b[0m \u001b[31m9.7 MB/s\u001b[0m eta \u001b[36m0:00:00\u001b[0m\n",
            "\u001b[?25hDownloading rustworkx-0.15.1-cp38-abi3-manylinux_2_17_x86_64.manylinux2014_x86_64.whl (2.0 MB)\n",
            "\u001b[2K   \u001b[90m━━━━━━━━━━━━━━━━━━━━━━━━━━━━━━━━━━━━━━━━\u001b[0m \u001b[32m2.0/2.0 MB\u001b[0m \u001b[31m56.3 MB/s\u001b[0m eta \u001b[36m0:00:00\u001b[0m\n",
            "\u001b[?25hDownloading stevedore-5.4.0-py3-none-any.whl (49 kB)\n",
            "\u001b[2K   \u001b[90m━━━━━━━━━━━━━━━━━━━━━━━━━━━━━━━━━━━━━━━━\u001b[0m \u001b[32m49.5/49.5 kB\u001b[0m \u001b[31m3.2 MB/s\u001b[0m eta \u001b[36m0:00:00\u001b[0m\n",
            "\u001b[?25hDownloading symengine-0.13.0-cp311-cp311-manylinux_2_17_x86_64.manylinux2014_x86_64.whl (49.7 MB)\n",
            "\u001b[2K   \u001b[90m━━━━━━━━━━━━━━━━━━━━━━━━━━━━━━━━━━━━━━━━\u001b[0m \u001b[32m49.7/49.7 MB\u001b[0m \u001b[31m12.9 MB/s\u001b[0m eta \u001b[36m0:00:00\u001b[0m\n",
            "\u001b[?25hDownloading pbr-6.1.0-py2.py3-none-any.whl (108 kB)\n",
            "\u001b[2K   \u001b[90m━━━━━━━━━━━━━━━━━━━━━━━━━━━━━━━━━━━━━━━━\u001b[0m \u001b[32m108.5/108.5 kB\u001b[0m \u001b[31m8.1 MB/s\u001b[0m eta \u001b[36m0:00:00\u001b[0m\n",
            "\u001b[?25hInstalling collected packages: symengine, rustworkx, pbr, dill, stevedore, qiskit, qiskit_aer\n",
            "Successfully installed dill-0.3.9 pbr-6.1.0 qiskit-1.3.1 qiskit_aer-0.15.1 rustworkx-0.15.1 stevedore-5.4.0 symengine-0.13.0\n",
            "Collecting qiskit_ibm_runtime\n",
            "  Downloading qiskit_ibm_runtime-0.34.0-py3-none-any.whl.metadata (3.0 kB)\n",
            "Requirement already satisfied: requests>=2.19 in /usr/local/lib/python3.11/dist-packages (from qiskit_ibm_runtime) (2.32.3)\n",
            "Collecting requests-ntlm>=1.1.0 (from qiskit_ibm_runtime)\n",
            "  Downloading requests_ntlm-1.3.0-py3-none-any.whl.metadata (2.4 kB)\n",
            "Requirement already satisfied: numpy>=1.13 in /usr/local/lib/python3.11/dist-packages (from qiskit_ibm_runtime) (1.26.4)\n",
            "Requirement already satisfied: urllib3>=1.21.1 in /usr/local/lib/python3.11/dist-packages (from qiskit_ibm_runtime) (2.3.0)\n",
            "Requirement already satisfied: python-dateutil>=2.8.0 in /usr/local/lib/python3.11/dist-packages (from qiskit_ibm_runtime) (2.8.2)\n",
            "Requirement already satisfied: websocket-client>=1.5.1 in /usr/local/lib/python3.11/dist-packages (from qiskit_ibm_runtime) (1.8.0)\n",
            "Collecting ibm-platform-services>=0.22.6 (from qiskit_ibm_runtime)\n",
            "  Downloading ibm_platform_services-0.59.1-py3-none-any.whl.metadata (9.0 kB)\n",
            "Collecting pydantic<2.10,>=2.5.0 (from qiskit_ibm_runtime)\n",
            "  Downloading pydantic-2.9.2-py3-none-any.whl.metadata (149 kB)\n",
            "\u001b[2K     \u001b[90m━━━━━━━━━━━━━━━━━━━━━━━━━━━━━━━━━━━━━━━━\u001b[0m \u001b[32m149.4/149.4 kB\u001b[0m \u001b[31m1.2 MB/s\u001b[0m eta \u001b[36m0:00:00\u001b[0m\n",
            "\u001b[?25hRequirement already satisfied: qiskit>=1.1.0 in /usr/local/lib/python3.11/dist-packages (from qiskit_ibm_runtime) (1.3.1)\n",
            "Collecting ibm_cloud_sdk_core<4.0.0,>=3.22.0 (from ibm-platform-services>=0.22.6->qiskit_ibm_runtime)\n",
            "  Downloading ibm_cloud_sdk_core-3.22.1-py3-none-any.whl.metadata (8.6 kB)\n",
            "Requirement already satisfied: annotated-types>=0.6.0 in /usr/local/lib/python3.11/dist-packages (from pydantic<2.10,>=2.5.0->qiskit_ibm_runtime) (0.7.0)\n",
            "Collecting pydantic-core==2.23.4 (from pydantic<2.10,>=2.5.0->qiskit_ibm_runtime)\n",
            "  Downloading pydantic_core-2.23.4-cp311-cp311-manylinux_2_17_x86_64.manylinux2014_x86_64.whl.metadata (6.6 kB)\n",
            "Requirement already satisfied: typing-extensions>=4.6.1 in /usr/local/lib/python3.11/dist-packages (from pydantic<2.10,>=2.5.0->qiskit_ibm_runtime) (4.12.2)\n",
            "Requirement already satisfied: six>=1.5 in /usr/local/lib/python3.11/dist-packages (from python-dateutil>=2.8.0->qiskit_ibm_runtime) (1.17.0)\n",
            "Requirement already satisfied: rustworkx>=0.15.0 in /usr/local/lib/python3.11/dist-packages (from qiskit>=1.1.0->qiskit_ibm_runtime) (0.15.1)\n",
            "Requirement already satisfied: scipy>=1.5 in /usr/local/lib/python3.11/dist-packages (from qiskit>=1.1.0->qiskit_ibm_runtime) (1.13.1)\n",
            "Requirement already satisfied: sympy>=1.3 in /usr/local/lib/python3.11/dist-packages (from qiskit>=1.1.0->qiskit_ibm_runtime) (1.13.1)\n",
            "Requirement already satisfied: dill>=0.3 in /usr/local/lib/python3.11/dist-packages (from qiskit>=1.1.0->qiskit_ibm_runtime) (0.3.9)\n",
            "Requirement already satisfied: stevedore>=3.0.0 in /usr/local/lib/python3.11/dist-packages (from qiskit>=1.1.0->qiskit_ibm_runtime) (5.4.0)\n",
            "Requirement already satisfied: symengine<0.14,>=0.11 in /usr/local/lib/python3.11/dist-packages (from qiskit>=1.1.0->qiskit_ibm_runtime) (0.13.0)\n",
            "Requirement already satisfied: charset-normalizer<4,>=2 in /usr/local/lib/python3.11/dist-packages (from requests>=2.19->qiskit_ibm_runtime) (3.4.1)\n",
            "Requirement already satisfied: idna<4,>=2.5 in /usr/local/lib/python3.11/dist-packages (from requests>=2.19->qiskit_ibm_runtime) (3.10)\n",
            "Requirement already satisfied: certifi>=2017.4.17 in /usr/local/lib/python3.11/dist-packages (from requests>=2.19->qiskit_ibm_runtime) (2024.12.14)\n",
            "Requirement already satisfied: cryptography>=1.3 in /usr/local/lib/python3.11/dist-packages (from requests-ntlm>=1.1.0->qiskit_ibm_runtime) (43.0.3)\n",
            "Collecting pyspnego>=0.4.0 (from requests-ntlm>=1.1.0->qiskit_ibm_runtime)\n",
            "  Downloading pyspnego-0.11.2-py3-none-any.whl.metadata (5.4 kB)\n",
            "Requirement already satisfied: cffi>=1.12 in /usr/local/lib/python3.11/dist-packages (from cryptography>=1.3->requests-ntlm>=1.1.0->qiskit_ibm_runtime) (1.17.1)\n",
            "Requirement already satisfied: PyJWT<3.0.0,>=2.8.0 in /usr/local/lib/python3.11/dist-packages (from ibm_cloud_sdk_core<4.0.0,>=3.22.0->ibm-platform-services>=0.22.6->qiskit_ibm_runtime) (2.10.1)\n",
            "Requirement already satisfied: pbr>=2.0.0 in /usr/local/lib/python3.11/dist-packages (from stevedore>=3.0.0->qiskit>=1.1.0->qiskit_ibm_runtime) (6.1.0)\n",
            "Requirement already satisfied: mpmath<1.4,>=1.1.0 in /usr/local/lib/python3.11/dist-packages (from sympy>=1.3->qiskit>=1.1.0->qiskit_ibm_runtime) (1.3.0)\n",
            "Requirement already satisfied: pycparser in /usr/local/lib/python3.11/dist-packages (from cffi>=1.12->cryptography>=1.3->requests-ntlm>=1.1.0->qiskit_ibm_runtime) (2.22)\n",
            "Downloading qiskit_ibm_runtime-0.34.0-py3-none-any.whl (3.0 MB)\n",
            "\u001b[2K   \u001b[90m━━━━━━━━━━━━━━━━━━━━━━━━━━━━━━━━━━━━━━━━\u001b[0m \u001b[32m3.0/3.0 MB\u001b[0m \u001b[31m43.0 MB/s\u001b[0m eta \u001b[36m0:00:00\u001b[0m\n",
            "\u001b[?25hDownloading ibm_platform_services-0.59.1-py3-none-any.whl (340 kB)\n",
            "\u001b[2K   \u001b[90m━━━━━━━━━━━━━━━━━━━━━━━━━━━━━━━━━━━━━━━━\u001b[0m \u001b[32m340.8/340.8 kB\u001b[0m \u001b[31m25.3 MB/s\u001b[0m eta \u001b[36m0:00:00\u001b[0m\n",
            "\u001b[?25hDownloading pydantic-2.9.2-py3-none-any.whl (434 kB)\n",
            "\u001b[2K   \u001b[90m━━━━━━━━━━━━━━━━━━━━━━━━━━━━━━━━━━━━━━━━\u001b[0m \u001b[32m434.9/434.9 kB\u001b[0m \u001b[31m27.8 MB/s\u001b[0m eta \u001b[36m0:00:00\u001b[0m\n",
            "\u001b[?25hDownloading pydantic_core-2.23.4-cp311-cp311-manylinux_2_17_x86_64.manylinux2014_x86_64.whl (2.1 MB)\n",
            "\u001b[2K   \u001b[90m━━━━━━━━━━━━━━━━━━━━━━━━━━━━━━━━━━━━━━━━\u001b[0m \u001b[32m2.1/2.1 MB\u001b[0m \u001b[31m56.1 MB/s\u001b[0m eta \u001b[36m0:00:00\u001b[0m\n",
            "\u001b[?25hDownloading requests_ntlm-1.3.0-py3-none-any.whl (6.6 kB)\n",
            "Downloading ibm_cloud_sdk_core-3.22.1-py3-none-any.whl (69 kB)\n",
            "\u001b[2K   \u001b[90m━━━━━━━━━━━━━━━━━━━━━━━━━━━━━━━━━━━━━━━━\u001b[0m \u001b[32m69.4/69.4 kB\u001b[0m \u001b[31m6.3 MB/s\u001b[0m eta \u001b[36m0:00:00\u001b[0m\n",
            "\u001b[?25hDownloading pyspnego-0.11.2-py3-none-any.whl (130 kB)\n",
            "\u001b[2K   \u001b[90m━━━━━━━━━━━━━━━━━━━━━━━━━━━━━━━━━━━━━━━━\u001b[0m \u001b[32m130.5/130.5 kB\u001b[0m \u001b[31m9.3 MB/s\u001b[0m eta \u001b[36m0:00:00\u001b[0m\n",
            "\u001b[?25hInstalling collected packages: pydantic-core, pydantic, ibm_cloud_sdk_core, pyspnego, ibm-platform-services, requests-ntlm, qiskit_ibm_runtime\n",
            "  Attempting uninstall: pydantic-core\n",
            "    Found existing installation: pydantic_core 2.27.2\n",
            "    Uninstalling pydantic_core-2.27.2:\n",
            "      Successfully uninstalled pydantic_core-2.27.2\n",
            "  Attempting uninstall: pydantic\n",
            "    Found existing installation: pydantic 2.10.5\n",
            "    Uninstalling pydantic-2.10.5:\n",
            "      Successfully uninstalled pydantic-2.10.5\n",
            "Successfully installed ibm-platform-services-0.59.1 ibm_cloud_sdk_core-3.22.1 pydantic-2.9.2 pydantic-core-2.23.4 pyspnego-0.11.2 qiskit_ibm_runtime-0.34.0 requests-ntlm-1.3.0\n"
          ]
        }
      ],
      "source": [
        "!pip install qiskit qiskit_aer\n",
        "!pip install qiskit_ibm_runtime"
      ]
    },
    {
      "cell_type": "code",
      "execution_count": null,
      "id": "J6jorY7OUz7Z",
      "metadata": {
        "colab": {
          "base_uri": "https://localhost:8080/"
        },
        "id": "J6jorY7OUz7Z",
        "outputId": "ec1dccab-226f-4386-f4b7-72db84463f3b"
      },
      "outputs": [
        {
          "name": "stdout",
          "output_type": "stream",
          "text": [
            "1.3.1\n"
          ]
        }
      ],
      "source": [
        "import qiskit\n",
        "print(qiskit.__version__)"
      ]
    },
    {
      "cell_type": "code",
      "execution_count": null,
      "id": "l76o7-0JUW4s",
      "metadata": {
        "id": "l76o7-0JUW4s"
      },
      "outputs": [],
      "source": [
        "import math\n",
        "from qiskit import QuantumCircuit, QuantumRegister, ClassicalRegister\n",
        "from qiskit_aer import AerSimulator\n",
        "from qiskit import transpile\n",
        "from qiskit_ibm_runtime import QiskitRuntimeService, SamplerV2 as Sampler"
      ]
    },
    {
      "cell_type": "code",
      "execution_count": null,
      "id": "a1e30953-ff50-4184-91d5-12e09156bdeb",
      "metadata": {
        "id": "a1e30953-ff50-4184-91d5-12e09156bdeb"
      },
      "outputs": [],
      "source": [
        "import hmac\n",
        "import hashlib\n",
        "\n",
        "\n",
        "def hmac_prf(secret_key, input_data):\n",
        "    \"\"\"\n",
        "    Generate HMAC using SHA-256 and return the binary output (256 bits).\n",
        "\n",
        "    Args:\n",
        "    - secret_key (str): Shared secret key (K).\n",
        "    - input_data (str): Previous value and identifier for PRF.\n",
        "\n",
        "    Returns:\n",
        "    - str: 256-bit binary output from the HMAC function.\n",
        "    \"\"\"\n",
        "    hmac_output = hmac.new(\n",
        "        secret_key.encode(), input_data.encode(), hashlib.sha256\n",
        "    ).hexdigest()\n",
        "    return bin(int(hmac_output, 16))[2:].zfill(256)[:28]\n",
        "\n",
        "\n",
        "def generate_new_key(K, seed, round_number):\n",
        "    \"\"\"\n",
        "    Generate a new key using HMAC and expand using the previous key (T1, T2, T3, ...).\n",
        "\n",
        "    Args:\n",
        "    - K (str): Shared secret key (K).\n",
        "    - seed (str): A unique seed (e.g., for each QKD round).\n",
        "    - round_number (int): The round number, used to create unique identifiers (0x01, 0x02, ...).\n",
        "\n",
        "    Returns:\n",
        "    - str: A new key derived from K using HMAC-based PRF.\n",
        "    \"\"\"\n",
        "    # Construct identifier (e.g., 0x01, 0x02, ...)\n",
        "    identifier = f\"0x{round_number:02X}\"\n",
        "\n",
        "    # Combine the previous output with the seed and identifier for HMAC input\n",
        "    input_data = f\"{K}|{seed}|{identifier}\"\n",
        "\n",
        "    # Get the next key (T1, T2, ...)\n",
        "    return hmac_prf(K, input_data)"
      ]
    },
    {
      "cell_type": "code",
      "execution_count": null,
      "id": "864f79b4-3fa0-4e30-8e4c-b6f6683de464",
      "metadata": {
        "colab": {
          "base_uri": "https://localhost:8080/"
        },
        "id": "864f79b4-3fa0-4e30-8e4c-b6f6683de464",
        "outputId": "022c42ee-ab36-492a-f005-b03a023c14e0"
      },
      "outputs": [
        {
          "name": "stdout",
          "output_type": "stream",
          "text": [
            "T1 = 1011001000111101111111000111\n",
            "T2 = 0100100100100101100110101010\n",
            "T3 = 1000010010011001001001001100\n",
            "T4 = 0110010110001000101000111011\n",
            "T5 = 0100110100110011000101011000\n"
          ]
        }
      ],
      "source": [
        "# Shared Key (K) and Initial Seed (S)\n",
        "shared_key = \"shared_secret_key\"  # Shared secret key (K)\n",
        "seed = \"shared_seed\"  # Shared seed (S)\n",
        "\n",
        "# Generate multiple keys (T1, T2, T3, ...) based on shared key (K) and seed (S)\n",
        "rounds = 5 # Example: number of rounds you want to generate keys for\n",
        "\n",
        "keys = []\n",
        "for round_number in range(1, rounds + 1):\n",
        "    new_key = generate_new_key(shared_key, seed, round_number)\n",
        "    keys.append(new_key)\n",
        "    print(f\"T{round_number} = {new_key}\")  # Display each generated key"
      ]
    },
    {
      "cell_type": "code",
      "execution_count": null,
      "id": "cc475ec2-fe4d-4d2a-9d7a-580c5cd98eaa",
      "metadata": {
        "colab": {
          "base_uri": "https://localhost:8080/",
          "height": 35
        },
        "id": "cc475ec2-fe4d-4d2a-9d7a-580c5cd98eaa",
        "outputId": "31ac844a-d1b3-4906-d87a-38f15a4e381c"
      },
      "outputs": [
        {
          "data": {
            "application/vnd.google.colaboratory.intrinsic+json": {
              "type": "string"
            },
            "text/plain": [
              "'1011001000111101111111000111'"
            ]
          },
          "execution_count": 8,
          "metadata": {},
          "output_type": "execute_result"
        }
      ],
      "source": [
        "keys[0]"
      ]
    },
    {
      "cell_type": "code",
      "execution_count": null,
      "id": "5e621c71-5651-499f-8f12-f5356150dc48",
      "metadata": {
        "id": "5e621c71-5651-499f-8f12-f5356150dc48"
      },
      "outputs": [],
      "source": [
        "alice_bases = keys[0]\n",
        "bob_bases = keys[0]"
      ]
    },
    {
      "cell_type": "markdown",
      "source": [
        "# Real Hardware"
      ],
      "metadata": {
        "id": "grFziQ92cCsm"
      },
      "id": "grFziQ92cCsm"
    },
    {
      "cell_type": "code",
      "source": [
        "token= \"90c11c3427d32b9170daa73f5fffe26dc68634b8b6f0d8e5a83082726bd42c2d384e16c5ea3f3ed03f5cb71156de8fb4ba9b3880f9f990c6ed2d275f315de5d3\"\n",
        "from qiskit_ibm_runtime import QiskitRuntimeService\n",
        "from qiskit import QuantumCircuit, QuantumRegister, ClassicalRegister\n",
        "from qiskit_ibm_runtime import QiskitRuntimeService, SamplerV2 as Sampler\n",
        "from qiskit.transpiler.preset_passmanagers import generate_preset_pass_manager\n",
        "\n",
        "QiskitRuntimeService.save_account(\n",
        "  token=token,\n",
        "  channel=\"ibm_quantum\",\n",
        "  overwrite=True\n",
        ")\n"
      ],
      "metadata": {
        "id": "bniZ-CHBca_P"
      },
      "id": "bniZ-CHBca_P",
      "execution_count": 5,
      "outputs": []
    },
    {
      "cell_type": "code",
      "source": [
        "service = QiskitRuntimeService()\n",
        "n_qubits = 5\n",
        "backend = service.least_busy(operational=True, simulator=False, min_num_qubits=n_qubits)\n",
        "print(\"Selected Backend\", backend)"
      ],
      "metadata": {
        "colab": {
          "base_uri": "https://localhost:8080/"
        },
        "id": "6X3sH_wuceZ2",
        "outputId": "ee51d80e-de0e-4475-c4a2-234ae0b8ce37"
      },
      "id": "6X3sH_wuceZ2",
      "execution_count": 6,
      "outputs": [
        {
          "output_type": "stream",
          "name": "stdout",
          "text": [
            "Selected Backend <IBMBackend('ibm_brisbane')>\n"
          ]
        }
      ]
    },
    {
      "cell_type": "code",
      "source": [
        "# Function to generate a random binary string using quantum circuits\n",
        "def RandomStringIBM(str_len):\n",
        "    op_str = ''  # Initialize an empty output string\n",
        "    num_qbits = 10  # Define number of qubits\n",
        "\n",
        "    # Calculate the number of chunks needed\n",
        "    num_chunks = math.ceil(str_len / num_qbits)\n",
        "    for _ in range(num_chunks):\n",
        "        # Create a quantum register and a classical register\n",
        "        q = QuantumRegister(num_qbits)\n",
        "        c = ClassicalRegister(num_qbits)\n",
        "        QC = QuantumCircuit(q, c)\n",
        "\n",
        "        # Apply Hadamard gates to all qubits to create superposition\n",
        "        for i in range(num_qbits):\n",
        "            QC.h(q[i])\n",
        "        QC.measure(q, c)\n",
        "        pm = generate_preset_pass_manager(backend=backend, optimization_level=1)\n",
        "        isa_circuit = pm.run(QC)\n",
        "\n",
        "        sampler = Sampler(backend)\n",
        "        job = sampler.run([isa_circuit])\n",
        "        result = job.result()\n"
      ],
      "metadata": {
        "id": "y2BxasI-cE6B"
      },
      "id": "y2BxasI-cE6B",
      "execution_count": null,
      "outputs": []
    },
    {
      "cell_type": "code",
      "source": [
        "len_message = 10\n",
        "alice_key = RandomStringIBM(len_message)"
      ],
      "metadata": {
        "id": "5h2fmSxWc6XM"
      },
      "id": "5h2fmSxWc6XM",
      "execution_count": null,
      "outputs": []
    },
    {
      "cell_type": "code",
      "source": [
        "from qiskit_ibm_runtime import QiskitRuntimeService\n",
        "job = service.job('cy3rmfscw2k0008jmtrg')\n",
        "result = job.result()"
      ],
      "metadata": {
        "id": "MMXpjBmuMzGp"
      },
      "id": "MMXpjBmuMzGp",
      "execution_count": 7,
      "outputs": []
    },
    {
      "cell_type": "code",
      "source": [
        "data = result[0].data\n",
        "bitarray = next(iter(data.values()))\n",
        "counts = bitarray.get_counts()"
      ],
      "metadata": {
        "id": "viUXLhexP0yz"
      },
      "id": "viUXLhexP0yz",
      "execution_count": 40,
      "outputs": []
    },
    {
      "cell_type": "code",
      "source": [
        "# Calculate the sum of counts\n",
        "total_shots = sum(counts.values())\n",
        "print(\"Total measurements (sum):\", total_shots)"
      ],
      "metadata": {
        "colab": {
          "base_uri": "https://localhost:8080/"
        },
        "id": "qsbq3p1YQ5zF",
        "outputId": "dea11964-0004-4fc5-ca60-99d276bab46a"
      },
      "id": "qsbq3p1YQ5zF",
      "execution_count": 46,
      "outputs": [
        {
          "output_type": "stream",
          "name": "stdout",
          "text": [
            "Total measurements (sum): 4096\n"
          ]
        }
      ]
    },
    {
      "cell_type": "code",
      "source": [
        "first_bitstring = next(iter(counts.keys()))\n",
        "print(first_bitstring)"
      ],
      "metadata": {
        "colab": {
          "base_uri": "https://localhost:8080/"
        },
        "id": "ImeXoEx3QJwL",
        "outputId": "ea34f3e9-6eec-4270-c783-8522fd63425e"
      },
      "id": "ImeXoEx3QJwL",
      "execution_count": 43,
      "outputs": [
        {
          "output_type": "stream",
          "name": "stdout",
          "text": [
            "1010111110\n"
          ]
        }
      ]
    },
    {
      "cell_type": "code",
      "source": [
        "print(counts)"
      ],
      "metadata": {
        "colab": {
          "base_uri": "https://localhost:8080/"
        },
        "id": "Zs8fpQ_zOt1G",
        "outputId": "cec72ecc-66da-494e-d324-734a20a24e86"
      },
      "id": "Zs8fpQ_zOt1G",
      "execution_count": 44,
      "outputs": [
        {
          "output_type": "stream",
          "name": "stdout",
          "text": [
            "{'1010111110': 4, '1000111010': 7, '1010100001': 6, '0000101000': 9, '1010001100': 4, '0101110110': 4, '0010100100': 12, '1001101000': 5, '0100010110': 3, '1101101111': 5, '1111101011': 4, '0010100001': 10, '1011000001': 2, '0011100111': 3, '1001001110': 4, '0010000000': 8, '1010100010': 7, '1111001111': 9, '1100101010': 4, '0110100101': 9, '0101000010': 4, '0110111111': 6, '0001101101': 4, '0100001110': 6, '0010100110': 6, '0001001011': 7, '0011000001': 2, '1100101000': 2, '1000111111': 8, '1100111111': 5, '0011011110': 3, '0110101110': 8, '0111011011': 3, '1001101100': 6, '1011110111': 2, '0100001011': 6, '1111101111': 5, '0010100111': 8, '1100001111': 8, '0000000111': 4, '0100110001': 3, '0110101010': 4, '0110001010': 4, '1001001100': 6, '1011111101': 4, '1010101000': 5, '0100101001': 5, '0001111011': 4, '1011111110': 2, '0101111110': 8, '0100000111': 3, '1111000011': 5, '1111111100': 6, '1010100110': 3, '0000001111': 7, '0011101011': 8, '0011100010': 7, '0001110111': 4, '0001111001': 9, '0011110100': 4, '1100111110': 5, '0000011111': 7, '1001000100': 5, '0000010110': 2, '1110010110': 1, '0001110001': 5, '1010010011': 4, '0111100011': 1, '0101001100': 4, '1111110110': 4, '1000011110': 4, '0000001001': 8, '0110011010': 2, '0011111100': 5, '0110011001': 7, '1010101011': 1, '0110101000': 6, '1001000110': 3, '1101000001': 2, '0010000100': 1, '0110100111': 4, '1001100010': 7, '0001101011': 10, '0011100101': 6, '0111101100': 8, '1000100010': 2, '0011001101': 5, '1011100000': 5, '1010001111': 5, '1111011010': 3, '1101000110': 7, '1011100111': 8, '1101101100': 6, '0101011110': 4, '0001000010': 6, '0000000110': 7, '1110101101': 10, '0100101011': 8, '1111111001': 2, '1001111010': 6, '0011100000': 3, '0001000101': 6, '1011001000': 8, '1111010011': 2, '0100011101': 6, '1011001001': 8, '0111111100': 6, '0000110101': 5, '1100111001': 8, '1111011101': 2, '0000110110': 5, '0001011111': 5, '0001001111': 7, '1101101110': 6, '0100100011': 9, '0111000001': 4, '1100000100': 4, '1001000010': 3, '1001000001': 4, '1110000011': 2, '1011101100': 6, '1000100100': 10, '1111111000': 3, '0001111111': 7, '1010111000': 4, '1011011001': 1, '1110001000': 3, '0110101001': 5, '0001010110': 3, '0101001001': 3, '1000010011': 2, '0000101001': 5, '1111010001': 5, '0101101011': 5, '0110000101': 3, '1010111101': 6, '1110110001': 3, '0001111101': 3, '0110100110': 6, '0010110011': 8, '0111111001': 7, '1111100101': 3, '0001101010': 10, '1111110101': 3, '1101001101': 8, '1110101010': 11, '0010101000': 6, '1101000010': 6, '0111101001': 3, '1010100101': 5, '0000110010': 7, '1000101001': 5, '0101101110': 6, '0101011000': 3, '1011000010': 2, '1101010001': 3, '0110100000': 7, '0101101000': 6, '1011111000': 3, '1110011111': 3, '0011101000': 10, '0100110101': 4, '0010010001': 3, '1011011111': 2, '1100001000': 5, '1000011010': 3, '1001111111': 5, '1101111011': 9, '0010011011': 3, '0111100101': 5, '1001001111': 3, '1110101001': 6, '1111010101': 8, '0011011010': 3, '1110100101': 4, '0101000110': 2, '1000000101': 8, '0010000001': 4, '0011110001': 1, '1000001100': 6, '0100111100': 6, '0010100011': 8, '1111111110': 3, '0100011001': 5, '0000111100': 1, '1100111010': 2, '0001100100': 4, '1110111010': 1, '0111110010': 5, '1000111001': 9, '1001001001': 2, '0001101111': 3, '1010001001': 6, '0100101111': 6, '0011011100': 4, '0110001011': 5, '1101111111': 4, '0111100001': 6, '0000111010': 7, '0000001100': 6, '1001100100': 3, '1111100000': 6, '0100100110': 8, '1111110011': 4, '0100111110': 8, '1010010101': 4, '1000011111': 4, '1000001001': 11, '1101001010': 3, '0000101110': 4, '0000000001': 10, '0111111111': 6, '0010111101': 5, '1100101111': 6, '1000101100': 3, '1101100011': 5, '0111010100': 4, '1101100010': 5, '1000010001': 4, '0100010011': 2, '0111001001': 4, '0010100010': 8, '1111100111': 5, '0100100000': 8, '0111010111': 2, '1101110100': 3, '1110011001': 5, '1101000111': 4, '1110001110': 4, '0100110110': 5, '1011011010': 4, '1001110001': 8, '0001010010': 4, '0001100111': 6, '0010101101': 7, '0001111010': 3, '1101001011': 6, '0001110011': 4, '1001011101': 4, '1010110000': 4, '0000011011': 5, '1111011110': 3, '1000101111': 5, '1010111111': 4, '1011010010': 2, '1010000100': 3, '0010001011': 6, '1100000111': 7, '1000111100': 7, '0010101110': 6, '1110111110': 4, '1111011000': 4, '0011000000': 5, '0101000101': 3, '0110111100': 4, '1001001011': 4, '1110001010': 9, '0100001000': 4, '0001111110': 2, '1001110010': 3, '0110110110': 3, '1101110111': 4, '0110101011': 4, '0101100100': 5, '0010111111': 5, '0011110010': 2, '1110111111': 7, '0001101110': 6, '0000001000': 5, '1001110110': 2, '0111101110': 5, '0001010101': 4, '1010110010': 4, '1001010001': 3, '0010011000': 3, '1000011011': 8, '1000000010': 8, '0110110001': 4, '0010011001': 5, '0011110011': 3, '0111001000': 8, '0011110111': 4, '0010001010': 4, '1110001101': 3, '1100001010': 5, '0111001100': 3, '1100000000': 5, '1010010100': 4, '1000001110': 7, '1001001010': 3, '1100010110': 8, '1110001001': 5, '0110101100': 5, '1000000011': 9, '0110010110': 2, '0000000000': 9, '0110101101': 4, '0000011110': 5, '0000111011': 5, '0100001001': 10, '0010001000': 6, '1100001001': 5, '1111001101': 8, '0111110000': 4, '0001011100': 3, '1001000011': 5, '1010001110': 4, '1110111100': 6, '1111100011': 3, '0000000100': 5, '1101111101': 8, '1101100110': 3, '1011110010': 5, '1000101000': 8, '0001010000': 3, '1011000111': 4, '1110101100': 7, '1011100110': 3, '1100000010': 4, '0110100010': 8, '0111110111': 4, '0110000000': 3, '0010000010': 4, '0100001111': 7, '1001011011': 3, '1110000001': 4, '1001110101': 4, '0101100111': 6, '0111100010': 3, '1101010000': 3, '1101000100': 2, '0001100000': 4, '1000110100': 6, '0001001001': 9, '1101001000': 2, '0000110100': 7, '1000000000': 4, '1010100011': 7, '1000011100': 4, '0111110001': 4, '1100100100': 8, '0101000111': 3, '1010101110': 3, '0010110000': 4, '0000100011': 8, '0101011010': 5, '1000001011': 5, '0110110111': 6, '1110011011': 4, '1000001111': 7, '0000000010': 6, '0110000110': 6, '1100110111': 2, '0011101100': 6, '1000000001': 5, '0010111001': 4, '0100100101': 11, '0101101010': 3, '0010110100': 4, '0101100010': 8, '0110111000': 5, '0001011000': 7, '1010110001': 7, '0111010110': 3, '0101110000': 6, '0000110111': 9, '0010011100': 4, '0011100011': 4, '1100100001': 4, '1111000100': 5, '1001100110': 5, '1001110111': 4, '1100110001': 8, '1111100010': 2, '0011100100': 3, '0100011100': 3, '1101111000': 6, '1111001011': 3, '0000100101': 4, '0101010000': 3, '1000011101': 3, '1101011011': 5, '0110001110': 7, '0111000110': 3, '1111000001': 6, '0110010000': 2, '1100110000': 7, '1110101000': 7, '1101101010': 1, '0000100111': 6, '0101001000': 8, '1100010010': 8, '0101001010': 5, '1110101011': 5, '0100111001': 3, '0011000011': 5, '0100100100': 2, '1100110010': 2, '0010010101': 4, '1000000111': 5, '1100100110': 6, '1000010111': 2, '0110010010': 2, '0001100001': 7, '1001110100': 4, '0111101111': 5, '0000101011': 9, '1101101001': 13, '1100110011': 5, '0111101101': 4, '1100010101': 4, '0111011001': 2, '1100001011': 10, '0110010100': 3, '0000111001': 5, '0101010010': 2, '1100010001': 1, '0111011110': 3, '0100101000': 5, '0111110011': 1, '0010110101': 3, '0001001101': 7, '1011110101': 8, '0011111000': 6, '1001110011': 3, '1000101101': 4, '1100111100': 8, '1001010111': 5, '1011101110': 4, '1010011110': 3, '1011101001': 4, '0001010001': 3, '0100001010': 4, '1100111101': 7, '0110010111': 3, '0001100101': 7, '1011101011': 4, '1101100111': 4, '1111000110': 3, '0111111110': 2, '1011110000': 5, '0000011001': 1, '0011111010': 6, '1011001110': 2, '0001110110': 1, '0010111010': 3, '1101101011': 7, '0110011101': 4, '0000101100': 4, '1000001101': 6, '0111010001': 1, '0111111000': 4, '0001000100': 6, '0100010010': 1, '1001010101': 2, '1101001110': 5, '0101001011': 6, '0000000011': 5, '0010111000': 9, '1000100001': 7, '1111001010': 4, '1111111101': 2, '1100000011': 7, '0010110001': 3, '1011011110': 4, '1010011100': 3, '0100100111': 7, '1110111011': 1, '1111101101': 4, '0111010011': 2, '0110100001': 5, '1010111100': 7, '0011000110': 2, '0000011101': 4, '1010010000': 2, '0001001010': 5, '1001001000': 2, '1101110011': 4, '1001101110': 5, '0110000111': 6, '0111111011': 5, '0001101000': 5, '1011100001': 2, '0011001010': 5, '1111101100': 6, '0011101001': 5, '1000010100': 3, '0000001101': 5, '1100010011': 4, '0010100000': 9, '0101111010': 3, '0110011011': 4, '0110000100': 6, '1000110101': 7, '1101111001': 4, '1011011011': 3, '0010001101': 6, '0000100010': 6, '0000100100': 5, '0000101101': 7, '0101001101': 7, '1111010110': 2, '0011111110': 2, '0010010000': 4, '1110110110': 4, '0010111100': 3, '1111101110': 4, '0010100101': 4, '1000000110': 4, '0000111110': 2, '1100100111': 6, '0000110011': 1, '1111010100': 6, '0100000000': 8, '0011101101': 6, '1011001010': 1, '0000100000': 4, '0000010001': 2, '0010010110': 1, '1000111011': 4, '1111100100': 3, '1010011001': 5, '1110100010': 1, '0110111010': 2, '1100001101': 8, '0001010011': 4, '1000010101': 2, '0000110000': 2, '1001101001': 5, '1000100110': 7, '1101110101': 4, '0111001101': 5, '0001101100': 6, '0100111011': 6, '1110010000': 4, '0101111011': 4, '1101011110': 6, '1010111011': 5, '1100101101': 6, '0000010101': 3, '0111110100': 2, '0111101000': 4, '1111011100': 2, '1001110000': 3, '1000110111': 4, '1001101101': 5, '1010101101': 5, '0100001101': 4, '0001100110': 6, '0000011100': 2, '0010101010': 2, '1010001101': 5, '1110010001': 1, '0110000010': 6, '1000001000': 4, '1000101010': 5, '1011000101': 4, '0100101101': 6, '1110011110': 3, '1111101010': 4, '1101111010': 4, '1010110101': 3, '0110011111': 1, '0100010100': 3, '0010110110': 2, '0100110011': 5, '1110100111': 5, '1101110001': 5, '0001011001': 6, '1000100111': 6, '1111110000': 6, '1111001100': 2, '1110001011': 6, '1110110011': 3, '0111001111': 2, '1110000111': 4, '0101110111': 2, '0101010101': 2, '0101111100': 2, '1011001111': 9, '1101100001': 3, '1111111011': 8, '0111000010': 5, '0110000011': 8, '0101100110': 6, '0011100110': 4, '1101011000': 3, '0001110101': 3, '1011101000': 5, '0010110111': 7, '0100111101': 7, '1100101001': 3, '1110100110': 2, '0101101001': 5, '1010100100': 8, '1001100000': 7, '0100011010': 5, '0011000010': 6, '0101001111': 3, '0001100011': 2, '1101010110': 4, '0111000011': 1, '1010001011': 7, '0100111111': 3, '0101110001': 2, '0101111001': 10, '0001000011': 6, '1001111100': 6, '0101011011': 6, '0011010100': 1, '0100110100': 4, '0011011011': 3, '0000111101': 3, '0111000000': 1, '1101010111': 1, '1100100000': 7, '0001000110': 2, '0100000001': 6, '0100111000': 6, '1110111001': 3, '1010101010': 4, '0100110000': 4, '1001000000': 3, '1100011100': 2, '0001011011': 1, '1010100111': 3, '0010101111': 3, '1001011010': 5, '1111011111': 3, '1011010001': 2, '0110111011': 2, '1000100101': 10, '1001011100': 4, '1100000101': 4, '0010001100': 6, '1001010011': 3, '1001111110': 2, '1010010010': 2, '0001010100': 3, '0011001001': 4, '0111001010': 3, '0001011110': 3, '0110101111': 3, '0010001001': 5, '0010101001': 4, '0101111111': 4, '0111000101': 4, '0101011101': 5, '0010101100': 10, '0011001100': 1, '0001001100': 3, '1100100010': 5, '0010101011': 5, '0011010101': 3, '1110011101': 2, '0011101111': 2, '0101000000': 5, '0000001011': 5, '1001101010': 8, '0100011110': 2, '0110001000': 4, '1011001101': 4, '1001101111': 5, '1000110000': 2, '0011001000': 2, '0011000100': 4, '0001001110': 8, '1011111100': 2, '0001001000': 4, '0010000111': 4, '1011000000': 5, '1011100011': 2, '1010010111': 3, '0101110101': 3, '0110110100': 5, '0011001111': 4, '1111010010': 1, '1110000110': 3, '0100110111': 8, '0100010000': 8, '0111001110': 4, '0000010011': 1, '0011111101': 2, '0010011111': 2, '1011100100': 7, '1101000101': 7, '1001111011': 4, '0011111111': 2, '0110010011': 2, '0011110110': 2, '1010000101': 6, '0001000000': 5, '1011111011': 3, '0001110000': 3, '1100000001': 6, '0101100101': 5, '1010011011': 3, '1101011111': 1, '1101011001': 2, '1010011111': 2, '1010110100': 2, '1101010101': 1, '0000010111': 6, '0111010010': 2, '0011010011': 2, '1010011101': 4, '1001010100': 1, '1100011001': 1, '0110111110': 4, '1010101100': 2, '1000110001': 7, '1100111011': 3, '1110011000': 2, '0101000001': 4, '0011001011': 3, '1000100000': 1, '0100101110': 4, '1100000110': 7, '1101000000': 1, '1100001100': 2, '0000111111': 7, '0100011000': 2, '1010000110': 2, '0110000001': 7, '1011110001': 3, '0001101001': 8, '0101101111': 2, '1101010011': 1, '1001010110': 1, '1000111101': 7, '1011010111': 2, '1110010111': 3, '1110100000': 2, '1011000110': 1, '0000100001': 5, '1011010000': 4, '1010000010': 6, '1110110010': 2, '0100100010': 6, '0010001111': 6, '0000000101': 7, '0011000111': 1, '1100101100': 4, '1101101101': 4, '1110100100': 3, '1111110010': 2, '1010101001': 2, '1110101111': 8, '0111100100': 6, '0100000101': 2, '1100100011': 9, '1110101110': 5, '0111001011': 4, '1100100101': 4, '1111000101': 10, '1100001110': 10, '0110011000': 3, '0001011101': 3, '1010111010': 4, '1011011101': 3, '1101100000': 4, '0001000111': 2, '1011010101': 4, '1100011111': 1, '1011101010': 4, '0110111001': 2, '0101000100': 4, '1110110101': 3, '1001101011': 3, '0011000101': 2, '0001110100': 4, '0100001100': 5, '1000111110': 6, '1010000011': 4, '0111110101': 2, '1011000100': 3, '0101100001': 3, '1001100111': 2, '0000011010': 2, '0110010001': 3, '1110110000': 1, '1001011001': 3, '1100111000': 2, '1110001100': 5, '0110110101': 2, '0010010010': 3, '1110111000': 8, '1101111110': 3, '0000100110': 4, '1101100101': 3, '0110001111': 3, '1101001100': 2, '1001100011': 3, '1011101111': 3, '0101011111': 3, '1011001011': 6, '1111101001': 8, '1101110010': 3, '1001100101': 5, '0010000011': 5, '1000001010': 4, '1111000000': 3, '0110111101': 5, '0101010001': 2, '0111011111': 1, '1010000111': 2, '0111000100': 3, '1111100001': 5, '1110111101': 3, '0111011000': 3, '1010111001': 2, '0000001110': 4, '1101000011': 3, '1100011101': 2, '0101100011': 7, '1111011001': 3, '0010000110': 3, '0011010001': 2, '1010000001': 4, '1000101110': 5, '1001010010': 4, '1111110001': 3, '1001100001': 8, '0100100001': 6, '1011011100': 3, '0101111101': 2, '0010011010': 4, '0000110001': 3, '0100000110': 6, '0110100100': 3, '0111100111': 2, '0001100010': 4, '0100010001': 3, '0101010011': 1, '1000100011': 1, '0100101010': 6, '1011001100': 1, '0111101010': 6, '0011011001': 3, '1010110110': 1, '0111111010': 5, '0000011000': 5, '0111100000': 4, '1001000101': 3, '0001000001': 6, '0011010110': 6, '0100000100': 1, '1101100100': 2, '1100110100': 3, '0100011011': 3, '0011100001': 4, '0110001100': 2, '1100101011': 3, '0010010111': 1, '0000001010': 5, '1110010010': 5, '0110110011': 2, '1111000010': 2, '0000111000': 3, '0110011100': 2, '1101111100': 3, '0011110000': 1, '1010110011': 2, '1001010000': 3, '0011101110': 6, '0100110010': 1, '0111011101': 4, '0111011100': 1, '1100011011': 1, '1010100000': 4, '1111101000': 4, '1000110011': 4, '0011010000': 1, '0000010000': 4, '0110001001': 5, '1010001010': 3, '1100101110': 3, '0010111011': 2, '0101111000': 3, '1100011110': 1, '1010011010': 1, '1001011110': 4, '0100101100': 2, '1100010000': 2, '0111110110': 1, '1011100010': 4, '0111111101': 2, '0101010111': 1, '1100110110': 3, '1010001000': 3, '1111100110': 4, '1001001101': 3, '1000101011': 4, '1011011000': 1, '1100010111': 2, '1000000100': 5, '1110011010': 2, '1101001001': 2, '0010010011': 2, '0011011101': 2, '1110000101': 5, '1110000100': 2, '0101000011': 1, '1110010100': 1, '0010000101': 5, '1011110011': 1, '0100011111': 1, '1000011000': 3, '0000101111': 4, '1101010010': 2, '0010111110': 2, '0111101011': 2, '1111110111': 1, '0010011110': 2, '0101110100': 6, '0001011010': 1, '0011101010': 2, '1000110010': 2, '1111111010': 3, '0001010111': 1, '0011111001': 3, '1011101101': 2, '1100110101': 2, '0011011000': 2, '1111001110': 2, '1110000000': 2, '0100000011': 4, '1111000111': 3, '1101011100': 1, '0011010111': 2, '1111001000': 2, '1000011001': 1, '0110110000': 2, '1010101111': 1, '0100010101': 3, '0100010111': 2, '1010000000': 3, '0111100110': 1, '1101110000': 1, '1011111001': 6, '1001111001': 2, '1000110110': 2, '1010010110': 2, '0110011110': 2, '1101101000': 2, '0010010100': 1, '0101100000': 4, '0010011101': 6, '0110100011': 2, '1001111101': 2, '0101011100': 2, '0010001110': 5, '1101011010': 2, '1110100001': 3, '0111010101': 1, '0001110010': 3, '1000010110': 2, '0011001110': 2, '0001111000': 1, '1110110111': 2, '0100000010': 1, '1111010111': 1, '0101101100': 3, '0101010100': 1, '1001111000': 1, '1111110100': 3, '0001111100': 1, '1110110100': 1, '0100111010': 1, '0101101101': 1, '0000010100': 2, '1110100011': 2, '1100010100': 1, '1101001111': 1, '0011110101': 2, '1000010010': 1, '1011111010': 1, '0101110010': 1, '1001000111': 1, '1110010011': 1, '0101010110': 1, '0010110010': 2, '1111011011': 1, '0110110010': 1, '1011010100': 1, '1011111111': 1, '0111000111': 2, '1100011000': 1, '1101110110': 1, '0000101010': 1, '0000010010': 1, '1111001001': 1}\n"
          ]
        }
      ]
    },
    {
      "cell_type": "markdown",
      "source": [
        "# Simulation"
      ],
      "metadata": {
        "id": "NoF4ucfNcBRU"
      },
      "id": "NoF4ucfNcBRU"
    },
    {
      "cell_type": "code",
      "execution_count": null,
      "id": "1a760578-4078-4110-b7a5-4d55575cb512",
      "metadata": {
        "id": "1a760578-4078-4110-b7a5-4d55575cb512"
      },
      "outputs": [],
      "source": [
        "# Function to generate a random binary string using quantum circuits\n",
        "def RandomString(str_len):\n",
        "    op_str = ''  # Initialize an empty output string\n",
        "    num_qbits = 10  # Define number of qubits\n",
        "\n",
        "    # Calculate the number of chunks needed\n",
        "    num_chunks = math.ceil(str_len / num_qbits)\n",
        "    for _ in range(num_chunks):\n",
        "        # Create a quantum register and a classical register\n",
        "        q = QuantumRegister(num_qbits)\n",
        "        c = ClassicalRegister(num_qbits)\n",
        "        QC = QuantumCircuit(q, c)\n",
        "\n",
        "        # Apply Hadamard gates to all qubits to create superposition\n",
        "        for i in range(num_qbits):\n",
        "            QC.h(q[i])\n",
        "        QC.measure(q, c)\n",
        "\n",
        "        simulator = AerSimulator()\n",
        "        # Measure the qubits\n",
        "        circ = transpile(QC, simulator)\n",
        "        result = simulator.run(circ, shots=1, memory=True).result()\n",
        "        memory = result.get_memory(circ)\n",
        "        op_str += memory[0]  # Append the measured result to op_str\n",
        "\n",
        "    return op_str[:str_len]  # Return the full random string"
      ]
    },
    {
      "cell_type": "code",
      "execution_count": null,
      "id": "832d9a4a-2af3-491d-8145-8e6e8c177dbe",
      "metadata": {
        "id": "832d9a4a-2af3-491d-8145-8e6e8c177dbe"
      },
      "outputs": [],
      "source": [
        "len_message = 28\n",
        "alice_key = RandomString(len_message)"
      ]
    },
    {
      "cell_type": "code",
      "execution_count": null,
      "id": "2cc47912-efcc-4026-85ef-934535ab5141",
      "metadata": {
        "colab": {
          "base_uri": "https://localhost:8080/"
        },
        "id": "2cc47912-efcc-4026-85ef-934535ab5141",
        "outputId": "e2380809-2a4c-48e4-89e3-a99f8f4a2c8b"
      },
      "outputs": [
        {
          "data": {
            "text/plain": [
              "CircuitInstruction(operation=Instruction(name='barrier', num_qubits=28, num_clbits=0, params=[]), qubits=(Qubit(QuantumRegister(28, 'q4'), 0), Qubit(QuantumRegister(28, 'q4'), 1), Qubit(QuantumRegister(28, 'q4'), 2), Qubit(QuantumRegister(28, 'q4'), 3), Qubit(QuantumRegister(28, 'q4'), 4), Qubit(QuantumRegister(28, 'q4'), 5), Qubit(QuantumRegister(28, 'q4'), 6), Qubit(QuantumRegister(28, 'q4'), 7), Qubit(QuantumRegister(28, 'q4'), 8), Qubit(QuantumRegister(28, 'q4'), 9), Qubit(QuantumRegister(28, 'q4'), 10), Qubit(QuantumRegister(28, 'q4'), 11), Qubit(QuantumRegister(28, 'q4'), 12), Qubit(QuantumRegister(28, 'q4'), 13), Qubit(QuantumRegister(28, 'q4'), 14), Qubit(QuantumRegister(28, 'q4'), 15), Qubit(QuantumRegister(28, 'q4'), 16), Qubit(QuantumRegister(28, 'q4'), 17), Qubit(QuantumRegister(28, 'q4'), 18), Qubit(QuantumRegister(28, 'q4'), 19), Qubit(QuantumRegister(28, 'q4'), 20), Qubit(QuantumRegister(28, 'q4'), 21), Qubit(QuantumRegister(28, 'q4'), 22), Qubit(QuantumRegister(28, 'q4'), 23), Qubit(QuantumRegister(28, 'q4'), 24), Qubit(QuantumRegister(28, 'q4'), 25), Qubit(QuantumRegister(28, 'q4'), 26), Qubit(QuantumRegister(28, 'q4'), 27)), clbits=())"
            ]
          },
          "execution_count": 12,
          "metadata": {},
          "output_type": "execute_result"
        }
      ],
      "source": [
        "# Quantum Circuit for encoding\n",
        "q = QuantumRegister(len_message)\n",
        "c = ClassicalRegister(len_message)\n",
        "qc = QuantumCircuit(q, c)\n",
        "\n",
        "# Encode qubits based on Alice's key and basis\n",
        "for i in range(len_message):\n",
        "    if alice_key[i] == '1':\n",
        "        qc.x(q[i])  # Flip the qubit to 1 if key is 1\n",
        "    if alice_bases[i] == '1':\n",
        "\n",
        "        qc.h(q[i])  # Apply Hadamard gate if basis is 1\n",
        "qc.barrier()"
      ]
    },
    {
      "cell_type": "code",
      "execution_count": null,
      "id": "1fa7d0b7-60fa-4278-b021-f8869dc45cfd",
      "metadata": {
        "colab": {
          "base_uri": "https://localhost:8080/",
          "height": 926
        },
        "id": "1fa7d0b7-60fa-4278-b021-f8869dc45cfd",
        "outputId": "0941162e-151f-451a-c1ef-a7a71e6a7b01"
      },
      "outputs": [
        {
          "data": {
            "text/html": [
              "<pre style=\"word-wrap: normal;white-space: pre;background: #fff0;line-height: 1.1;font-family: &quot;Courier New&quot;,Courier,monospace\">       ┌───┐┌───┐ ░ \n",
              " q4_0: ┤ X ├┤ H ├─░─\n",
              "       ├───┤└───┘ ░ \n",
              " q4_1: ┤ X ├──────░─\n",
              "       ├───┤┌───┐ ░ \n",
              " q4_2: ┤ X ├┤ H ├─░─\n",
              "       ├───┤├───┤ ░ \n",
              " q4_3: ┤ X ├┤ H ├─░─\n",
              "       ├───┤└───┘ ░ \n",
              " q4_4: ┤ X ├──────░─\n",
              "       └───┘      ░ \n",
              " q4_5: ───────────░─\n",
              "       ┌───┐┌───┐ ░ \n",
              " q4_6: ┤ X ├┤ H ├─░─\n",
              "       ├───┤└───┘ ░ \n",
              " q4_7: ┤ X ├──────░─\n",
              "       └───┘      ░ \n",
              " q4_8: ───────────░─\n",
              "                  ░ \n",
              " q4_9: ───────────░─\n",
              "       ┌───┐      ░ \n",
              "q4_10: ┤ H ├──────░─\n",
              "       ├───┤┌───┐ ░ \n",
              "q4_11: ┤ X ├┤ H ├─░─\n",
              "       ├───┤└───┘ ░ \n",
              "q4_12: ┤ H ├──────░─\n",
              "       ├───┤      ░ \n",
              "q4_13: ┤ H ├──────░─\n",
              "       ├───┤      ░ \n",
              "q4_14: ┤ X ├──────░─\n",
              "       ├───┤      ░ \n",
              "q4_15: ┤ H ├──────░─\n",
              "       ├───┤┌───┐ ░ \n",
              "q4_16: ┤ X ├┤ H ├─░─\n",
              "       ├───┤├───┤ ░ \n",
              "q4_17: ┤ X ├┤ H ├─░─\n",
              "       ├───┤├───┤ ░ \n",
              "q4_18: ┤ X ├┤ H ├─░─\n",
              "       ├───┤└───┘ ░ \n",
              "q4_19: ┤ H ├──────░─\n",
              "       ├───┤      ░ \n",
              "q4_20: ┤ H ├──────░─\n",
              "       ├───┤      ░ \n",
              "q4_21: ┤ H ├──────░─\n",
              "       ├───┤      ░ \n",
              "q4_22: ┤ X ├──────░─\n",
              "       ├───┤      ░ \n",
              "q4_23: ┤ X ├──────░─\n",
              "       ├───┤      ░ \n",
              "q4_24: ┤ X ├──────░─\n",
              "       ├───┤┌───┐ ░ \n",
              "q4_25: ┤ X ├┤ H ├─░─\n",
              "       ├───┤└───┘ ░ \n",
              "q4_26: ┤ H ├──────░─\n",
              "       ├───┤      ░ \n",
              "q4_27: ┤ H ├──────░─\n",
              "       └───┘      ░ \n",
              "c3: 28/═════════════\n",
              "                    </pre>"
            ],
            "text/plain": [
              "       ┌───┐┌───┐ ░ \n",
              " q4_0: ┤ X ├┤ H ├─░─\n",
              "       ├───┤└───┘ ░ \n",
              " q4_1: ┤ X ├──────░─\n",
              "       ├───┤┌───┐ ░ \n",
              " q4_2: ┤ X ├┤ H ├─░─\n",
              "       ├───┤├───┤ ░ \n",
              " q4_3: ┤ X ├┤ H ├─░─\n",
              "       ├───┤└───┘ ░ \n",
              " q4_4: ┤ X ├──────░─\n",
              "       └───┘      ░ \n",
              " q4_5: ───────────░─\n",
              "       ┌───┐┌───┐ ░ \n",
              " q4_6: ┤ X ├┤ H ├─░─\n",
              "       ├───┤└───┘ ░ \n",
              " q4_7: ┤ X ├──────░─\n",
              "       └───┘      ░ \n",
              " q4_8: ───────────░─\n",
              "                  ░ \n",
              " q4_9: ───────────░─\n",
              "       ┌───┐      ░ \n",
              "q4_10: ┤ H ├──────░─\n",
              "       ├───┤┌───┐ ░ \n",
              "q4_11: ┤ X ├┤ H ├─░─\n",
              "       ├───┤└───┘ ░ \n",
              "q4_12: ┤ H ├──────░─\n",
              "       ├───┤      ░ \n",
              "q4_13: ┤ H ├──────░─\n",
              "       ├───┤      ░ \n",
              "q4_14: ┤ X ├──────░─\n",
              "       ├───┤      ░ \n",
              "q4_15: ┤ H ├──────░─\n",
              "       ├───┤┌───┐ ░ \n",
              "q4_16: ┤ X ├┤ H ├─░─\n",
              "       ├───┤├───┤ ░ \n",
              "q4_17: ┤ X ├┤ H ├─░─\n",
              "       ├───┤├───┤ ░ \n",
              "q4_18: ┤ X ├┤ H ├─░─\n",
              "       ├───┤└───┘ ░ \n",
              "q4_19: ┤ H ├──────░─\n",
              "       ├───┤      ░ \n",
              "q4_20: ┤ H ├──────░─\n",
              "       ├───┤      ░ \n",
              "q4_21: ┤ H ├──────░─\n",
              "       ├───┤      ░ \n",
              "q4_22: ┤ X ├──────░─\n",
              "       ├───┤      ░ \n",
              "q4_23: ┤ X ├──────░─\n",
              "       ├───┤      ░ \n",
              "q4_24: ┤ X ├──────░─\n",
              "       ├───┤┌───┐ ░ \n",
              "q4_25: ┤ X ├┤ H ├─░─\n",
              "       ├───┤└───┘ ░ \n",
              "q4_26: ┤ H ├──────░─\n",
              "       ├───┤      ░ \n",
              "q4_27: ┤ H ├──────░─\n",
              "       └───┘      ░ \n",
              "c3: 28/═════════════\n",
              "                    "
            ]
          },
          "execution_count": 13,
          "metadata": {},
          "output_type": "execute_result"
        }
      ],
      "source": [
        "qc.draw()"
      ]
    },
    {
      "cell_type": "code",
      "execution_count": null,
      "id": "c25f6e6b-9ded-412e-a4eb-19d54fe60d35",
      "metadata": {
        "colab": {
          "base_uri": "https://localhost:8080/"
        },
        "id": "c25f6e6b-9ded-412e-a4eb-19d54fe60d35",
        "outputId": "c451da41-e9fe-48d0-870e-5ef57061ce31"
      },
      "outputs": [
        {
          "data": {
            "text/plain": [
              "<qiskit.circuit.instructionset.InstructionSet at 0x7cec14623940>"
            ]
          },
          "execution_count": 14,
          "metadata": {},
          "output_type": "execute_result"
        }
      ],
      "source": [
        "# Step 3: Bob measures the qubits\n",
        "for i in range(len_message):\n",
        "    if bob_bases[i] == '1':\n",
        "        qc.h(q[i])  # Bob applies Hadamard if measuring in Hadamard basis\n",
        "\n",
        "# Add measurements\n",
        "qc.measure(q, c)"
      ]
    },
    {
      "cell_type": "code",
      "execution_count": null,
      "id": "056553d7-2539-4ed3-894c-769636716752",
      "metadata": {
        "colab": {
          "background_save": true
        },
        "id": "056553d7-2539-4ed3-894c-769636716752",
        "outputId": "45cc7882-bfe4-4a22-f062-cafcde1d4071"
      },
      "outputs": [
        {
          "name": "stdout",
          "output_type": "stream",
          "text": [
            "Bob Measurement Result: 0011110001110100100011011111\n",
            "Final Shared Key: 1111101100010010111000111100\n",
            "Percentage of key bits retained:  100.0 %\n"
          ]
        }
      ],
      "source": [
        "# Run the circuit\n",
        "simulator = AerSimulator()\n",
        "circ = transpile(qc, simulator)\n",
        "result = simulator.run(circ, shots=1, memory=True).result()\n",
        "bob_result = result.get_memory(circ)\n",
        "print('Bob Measurement Result:', bob_result[0])\n",
        "\n",
        "# Display matching bits for shared key\n",
        "shared_key = []\n",
        "for i in range(len_message):\n",
        "    if alice_bases[i] == bob_bases[i]:  # Only keep the bit if bases match\n",
        "        shared_key.append(bob_result[0][len_message - i - 1])  # Reverse order in Qiskit\n",
        "\n",
        "final_shared_key = ''.join(shared_key)\n",
        "print('Final Shared Key:', final_shared_key)\n",
        "\n",
        "# Calculate the percentage of key bits retained\n",
        "matching_bits_count = len(final_shared_key)\n",
        "percentage_retained = (matching_bits_count / len_message) * 100\n",
        "print(\"Percentage of key bits retained: \", percentage_retained, \"%\")"
      ]
    },
    {
      "cell_type": "markdown",
      "id": "ehsmDO-ac8wH",
      "metadata": {
        "id": "ehsmDO-ac8wH"
      },
      "source": [
        "Job id = 773e84cb-4b67-405e-8383-9bdeed4124e8"
      ]
    },
    {
      "cell_type": "code",
      "execution_count": null,
      "id": "zOFO9Lm_JpJf",
      "metadata": {
        "colab": {
          "base_uri": "https://localhost:8080/"
        },
        "id": "zOFO9Lm_JpJf",
        "outputId": "561e1b72-b342-4939-81c7-67ca9356f00c"
      },
      "outputs": [
        {
          "data": {
            "text/plain": [
              "28"
            ]
          },
          "execution_count": 35,
          "metadata": {},
          "output_type": "execute_result"
        }
      ],
      "source": [
        "len(final_shared_key)"
      ]
    },
    {
      "cell_type": "code",
      "execution_count": null,
      "id": "YQVwmYG4c-VB",
      "metadata": {
        "colab": {
          "base_uri": "https://localhost:8080/"
        },
        "id": "YQVwmYG4c-VB",
        "outputId": "28cec88e-915d-419b-b137-873618168207"
      },
      "outputs": [
        {
          "name": "stdout",
          "output_type": "stream",
          "text": [
            "Key: 0111010001110110010100000100\n",
            "Encrypted Message (Binary): 0011110000010011001111000010100000100011010001010101001100011011000001000011110000100011\n",
            "Decrypted Message: Helod World\n"
          ]
        }
      ],
      "source": [
        "import random\n",
        "\n",
        "# Function to convert a string to binary\n",
        "def text_to_bin(text):\n",
        "    return ''.join(format(ord(c), '08b') for c in text)\n",
        "\n",
        "# Function to convert binary back to string\n",
        "def bin_to_text(binary_string):\n",
        "    chars = [binary_string[i:i+8] for i in range(0, len(binary_string), 8)]\n",
        "    return ''.join(chr(int(char, 2)) for char in chars)\n",
        "\n",
        "# Function to encrypt a message using One-Time Pad\n",
        "def encrypt(message, key):\n",
        "    # Convert the message to binary\n",
        "    binary_message = text_to_bin(message)\n",
        "\n",
        "    # Encrypt by XORing the binary message with the key (key length fixed at 28)\n",
        "    encrypted = ''.join(str(int(binary_message[i]) ^ int(key[i % len(key)])) for i in range(len(binary_message)))\n",
        "    return encrypted\n",
        "\n",
        "# Function to decrypt a message using One-Time Pad\n",
        "def decrypt(ciphertext, key):\n",
        "    # Decrypt by XORing the ciphertext with the key\n",
        "    decrypted = ''.join(str(int(ciphertext[i]) ^ int(key[i % len(key)])) for i in range(len(ciphertext)))\n",
        "\n",
        "    # Convert the decrypted binary string back to text\n",
        "    return bin_to_text(decrypted)\n",
        "\n",
        "# Example usage\n",
        "message = \"Helod World\"\n",
        "\n",
        "# Assuming final_shared_key is predefined and has a length of 28\n",
        "\n",
        "print(f\"Key: {final_shared_key}\")\n",
        "\n",
        "# Encrypt the message using One-Time Pad\n",
        "ciphertext = encrypt(message, final_shared_key)\n",
        "print(f\"Encrypted Message (Binary): {ciphertext}\")\n",
        "\n",
        "# Decrypt the message using the same key\n",
        "decrypted_message = decrypt(ciphertext, final_shared_key)\n",
        "print(f\"Decrypted Message: {decrypted_message}\")\n"
      ]
    },
    {
      "cell_type": "code",
      "execution_count": null,
      "id": "lFO9D9i0KVTn",
      "metadata": {
        "id": "lFO9D9i0KVTn"
      },
      "outputs": [],
      "source": []
    }
  ],
  "metadata": {
    "colab": {
      "provenance": []
    },
    "kernelspec": {
      "display_name": "Python 3 (ipykernel)",
      "language": "python",
      "name": "python3"
    },
    "language_info": {
      "codemirror_mode": {
        "name": "ipython",
        "version": 3
      },
      "file_extension": ".py",
      "mimetype": "text/x-python",
      "name": "python",
      "nbconvert_exporter": "python",
      "pygments_lexer": "ipython3",
      "version": "3.12.7"
    }
  },
  "nbformat": 4,
  "nbformat_minor": 5
}