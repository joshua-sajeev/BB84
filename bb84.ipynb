{
  "nbformat": 4,
  "nbformat_minor": 0,
  "metadata": {
    "colab": {
      "provenance": []
    },
    "kernelspec": {
      "name": "python3",
      "display_name": "Python 3"
    },
    "language_info": {
      "name": "python"
    }
  },
  "cells": [
    {
      "cell_type": "markdown",
      "source": [
        "## Install necessary libraries"
      ],
      "metadata": {
        "id": "e1uvphqng9Ea"
      }
    },
    {
      "cell_type": "code",
      "execution_count": null,
      "metadata": {
        "colab": {
          "base_uri": "https://localhost:8080/"
        },
        "id": "J1B1iisTVaK4",
        "outputId": "7c2c158b-515b-46a4-d8d6-6a281d2944ab"
      },
      "outputs": [
        {
          "output_type": "stream",
          "name": "stdout",
          "text": [
            "Collecting qiskit\n",
            "  Downloading qiskit-1.3.2-cp39-abi3-manylinux_2_17_x86_64.manylinux2014_x86_64.whl.metadata (12 kB)\n",
            "Collecting qiskit_aer\n",
            "  Downloading qiskit_aer-0.16.0-cp311-cp311-manylinux_2_17_x86_64.manylinux2014_x86_64.whl.metadata (8.2 kB)\n",
            "Collecting rustworkx>=0.15.0 (from qiskit)\n",
            "  Downloading rustworkx-0.16.0-cp39-abi3-manylinux_2_17_x86_64.manylinux2014_x86_64.whl.metadata (10 kB)\n",
            "Requirement already satisfied: numpy<3,>=1.17 in /usr/local/lib/python3.11/dist-packages (from qiskit) (1.26.4)\n",
            "Requirement already satisfied: scipy>=1.5 in /usr/local/lib/python3.11/dist-packages (from qiskit) (1.13.1)\n",
            "Requirement already satisfied: sympy>=1.3 in /usr/local/lib/python3.11/dist-packages (from qiskit) (1.13.1)\n",
            "Collecting dill>=0.3 (from qiskit)\n",
            "  Downloading dill-0.3.9-py3-none-any.whl.metadata (10 kB)\n",
            "Requirement already satisfied: python-dateutil>=2.8.0 in /usr/local/lib/python3.11/dist-packages (from qiskit) (2.8.2)\n",
            "Collecting stevedore>=3.0.0 (from qiskit)\n",
            "  Downloading stevedore-5.4.0-py3-none-any.whl.metadata (2.3 kB)\n",
            "Requirement already satisfied: typing-extensions in /usr/local/lib/python3.11/dist-packages (from qiskit) (4.12.2)\n",
            "Collecting symengine<0.14,>=0.11 (from qiskit)\n",
            "  Downloading symengine-0.13.0-cp311-cp311-manylinux_2_17_x86_64.manylinux2014_x86_64.whl.metadata (1.2 kB)\n",
            "Requirement already satisfied: psutil>=5 in /usr/local/lib/python3.11/dist-packages (from qiskit_aer) (5.9.5)\n",
            "Requirement already satisfied: six>=1.5 in /usr/local/lib/python3.11/dist-packages (from python-dateutil>=2.8.0->qiskit) (1.17.0)\n",
            "Collecting pbr>=2.0.0 (from stevedore>=3.0.0->qiskit)\n",
            "  Downloading pbr-6.1.0-py2.py3-none-any.whl.metadata (3.4 kB)\n",
            "Requirement already satisfied: mpmath<1.4,>=1.1.0 in /usr/local/lib/python3.11/dist-packages (from sympy>=1.3->qiskit) (1.3.0)\n",
            "Downloading qiskit-1.3.2-cp39-abi3-manylinux_2_17_x86_64.manylinux2014_x86_64.whl (6.8 MB)\n",
            "\u001b[2K   \u001b[90m━━━━━━━━━━━━━━━━━━━━━━━━━━━━━━━━━━━━━━━━\u001b[0m \u001b[32m6.8/6.8 MB\u001b[0m \u001b[31m55.3 MB/s\u001b[0m eta \u001b[36m0:00:00\u001b[0m\n",
            "\u001b[?25hDownloading qiskit_aer-0.16.0-cp311-cp311-manylinux_2_17_x86_64.manylinux2014_x86_64.whl (12.4 MB)\n",
            "\u001b[2K   \u001b[90m━━━━━━━━━━━━━━━━━━━━━━━━━━━━━━━━━━━━━━━━\u001b[0m \u001b[32m12.4/12.4 MB\u001b[0m \u001b[31m45.2 MB/s\u001b[0m eta \u001b[36m0:00:00\u001b[0m\n",
            "\u001b[?25hDownloading dill-0.3.9-py3-none-any.whl (119 kB)\n",
            "\u001b[2K   \u001b[90m━━━━━━━━━━━━━━━━━━━━━━━━━━━━━━━━━━━━━━━━\u001b[0m \u001b[32m119.4/119.4 kB\u001b[0m \u001b[31m6.7 MB/s\u001b[0m eta \u001b[36m0:00:00\u001b[0m\n",
            "\u001b[?25hDownloading rustworkx-0.16.0-cp39-abi3-manylinux_2_17_x86_64.manylinux2014_x86_64.whl (2.1 MB)\n",
            "\u001b[2K   \u001b[90m━━━━━━━━━━━━━━━━━━━━━━━━━━━━━━━━━━━━━━━━\u001b[0m \u001b[32m2.1/2.1 MB\u001b[0m \u001b[31m54.5 MB/s\u001b[0m eta \u001b[36m0:00:00\u001b[0m\n",
            "\u001b[?25hDownloading stevedore-5.4.0-py3-none-any.whl (49 kB)\n",
            "\u001b[2K   \u001b[90m━━━━━━━━━━━━━━━━━━━━━━━━━━━━━━━━━━━━━━━━\u001b[0m \u001b[32m49.5/49.5 kB\u001b[0m \u001b[31m3.8 MB/s\u001b[0m eta \u001b[36m0:00:00\u001b[0m\n",
            "\u001b[?25hDownloading symengine-0.13.0-cp311-cp311-manylinux_2_17_x86_64.manylinux2014_x86_64.whl (49.7 MB)\n",
            "\u001b[2K   \u001b[90m━━━━━━━━━━━━━━━━━━━━━━━━━━━━━━━━━━━━━━━━\u001b[0m \u001b[32m49.7/49.7 MB\u001b[0m \u001b[31m13.4 MB/s\u001b[0m eta \u001b[36m0:00:00\u001b[0m\n",
            "\u001b[?25hDownloading pbr-6.1.0-py2.py3-none-any.whl (108 kB)\n",
            "\u001b[2K   \u001b[90m━━━━━━━━━━━━━━━━━━━━━━━━━━━━━━━━━━━━━━━━\u001b[0m \u001b[32m108.5/108.5 kB\u001b[0m \u001b[31m5.4 MB/s\u001b[0m eta \u001b[36m0:00:00\u001b[0m\n",
            "\u001b[?25hInstalling collected packages: symengine, rustworkx, pbr, dill, stevedore, qiskit, qiskit_aer\n",
            "Successfully installed dill-0.3.9 pbr-6.1.0 qiskit-1.3.2 qiskit_aer-0.16.0 rustworkx-0.16.0 stevedore-5.4.0 symengine-0.13.0\n",
            "Collecting qiskit_ibm_runtime\n",
            "  Downloading qiskit_ibm_runtime-0.34.0-py3-none-any.whl.metadata (3.0 kB)\n",
            "Requirement already satisfied: requests>=2.19 in /usr/local/lib/python3.11/dist-packages (from qiskit_ibm_runtime) (2.32.3)\n",
            "Collecting requests-ntlm>=1.1.0 (from qiskit_ibm_runtime)\n",
            "  Downloading requests_ntlm-1.3.0-py3-none-any.whl.metadata (2.4 kB)\n",
            "Requirement already satisfied: numpy>=1.13 in /usr/local/lib/python3.11/dist-packages (from qiskit_ibm_runtime) (1.26.4)\n",
            "Requirement already satisfied: urllib3>=1.21.1 in /usr/local/lib/python3.11/dist-packages (from qiskit_ibm_runtime) (2.3.0)\n",
            "Requirement already satisfied: python-dateutil>=2.8.0 in /usr/local/lib/python3.11/dist-packages (from qiskit_ibm_runtime) (2.8.2)\n",
            "Requirement already satisfied: websocket-client>=1.5.1 in /usr/local/lib/python3.11/dist-packages (from qiskit_ibm_runtime) (1.8.0)\n",
            "Collecting ibm-platform-services>=0.22.6 (from qiskit_ibm_runtime)\n",
            "  Downloading ibm_platform_services-0.59.1-py3-none-any.whl.metadata (9.0 kB)\n",
            "Collecting pydantic<2.10,>=2.5.0 (from qiskit_ibm_runtime)\n",
            "  Downloading pydantic-2.9.2-py3-none-any.whl.metadata (149 kB)\n",
            "\u001b[2K     \u001b[90m━━━━━━━━━━━━━━━━━━━━━━━━━━━━━━━━━━━━━━━━\u001b[0m \u001b[32m149.4/149.4 kB\u001b[0m \u001b[31m9.9 MB/s\u001b[0m eta \u001b[36m0:00:00\u001b[0m\n",
            "\u001b[?25hRequirement already satisfied: qiskit>=1.1.0 in /usr/local/lib/python3.11/dist-packages (from qiskit_ibm_runtime) (1.3.2)\n",
            "Collecting ibm_cloud_sdk_core<4.0.0,>=3.22.0 (from ibm-platform-services>=0.22.6->qiskit_ibm_runtime)\n",
            "  Downloading ibm_cloud_sdk_core-3.22.1-py3-none-any.whl.metadata (8.6 kB)\n",
            "Requirement already satisfied: annotated-types>=0.6.0 in /usr/local/lib/python3.11/dist-packages (from pydantic<2.10,>=2.5.0->qiskit_ibm_runtime) (0.7.0)\n",
            "Collecting pydantic-core==2.23.4 (from pydantic<2.10,>=2.5.0->qiskit_ibm_runtime)\n",
            "  Downloading pydantic_core-2.23.4-cp311-cp311-manylinux_2_17_x86_64.manylinux2014_x86_64.whl.metadata (6.6 kB)\n",
            "Requirement already satisfied: typing-extensions>=4.6.1 in /usr/local/lib/python3.11/dist-packages (from pydantic<2.10,>=2.5.0->qiskit_ibm_runtime) (4.12.2)\n",
            "Requirement already satisfied: six>=1.5 in /usr/local/lib/python3.11/dist-packages (from python-dateutil>=2.8.0->qiskit_ibm_runtime) (1.17.0)\n",
            "Requirement already satisfied: rustworkx>=0.15.0 in /usr/local/lib/python3.11/dist-packages (from qiskit>=1.1.0->qiskit_ibm_runtime) (0.16.0)\n",
            "Requirement already satisfied: scipy>=1.5 in /usr/local/lib/python3.11/dist-packages (from qiskit>=1.1.0->qiskit_ibm_runtime) (1.13.1)\n",
            "Requirement already satisfied: sympy>=1.3 in /usr/local/lib/python3.11/dist-packages (from qiskit>=1.1.0->qiskit_ibm_runtime) (1.13.1)\n",
            "Requirement already satisfied: dill>=0.3 in /usr/local/lib/python3.11/dist-packages (from qiskit>=1.1.0->qiskit_ibm_runtime) (0.3.9)\n",
            "Requirement already satisfied: stevedore>=3.0.0 in /usr/local/lib/python3.11/dist-packages (from qiskit>=1.1.0->qiskit_ibm_runtime) (5.4.0)\n",
            "Requirement already satisfied: symengine<0.14,>=0.11 in /usr/local/lib/python3.11/dist-packages (from qiskit>=1.1.0->qiskit_ibm_runtime) (0.13.0)\n",
            "Requirement already satisfied: charset-normalizer<4,>=2 in /usr/local/lib/python3.11/dist-packages (from requests>=2.19->qiskit_ibm_runtime) (3.4.1)\n",
            "Requirement already satisfied: idna<4,>=2.5 in /usr/local/lib/python3.11/dist-packages (from requests>=2.19->qiskit_ibm_runtime) (3.10)\n",
            "Requirement already satisfied: certifi>=2017.4.17 in /usr/local/lib/python3.11/dist-packages (from requests>=2.19->qiskit_ibm_runtime) (2024.12.14)\n",
            "Requirement already satisfied: cryptography>=1.3 in /usr/local/lib/python3.11/dist-packages (from requests-ntlm>=1.1.0->qiskit_ibm_runtime) (43.0.3)\n",
            "Collecting pyspnego>=0.4.0 (from requests-ntlm>=1.1.0->qiskit_ibm_runtime)\n",
            "  Downloading pyspnego-0.11.2-py3-none-any.whl.metadata (5.4 kB)\n",
            "Requirement already satisfied: cffi>=1.12 in /usr/local/lib/python3.11/dist-packages (from cryptography>=1.3->requests-ntlm>=1.1.0->qiskit_ibm_runtime) (1.17.1)\n",
            "Requirement already satisfied: PyJWT<3.0.0,>=2.8.0 in /usr/local/lib/python3.11/dist-packages (from ibm_cloud_sdk_core<4.0.0,>=3.22.0->ibm-platform-services>=0.22.6->qiskit_ibm_runtime) (2.10.1)\n",
            "Requirement already satisfied: pbr>=2.0.0 in /usr/local/lib/python3.11/dist-packages (from stevedore>=3.0.0->qiskit>=1.1.0->qiskit_ibm_runtime) (6.1.0)\n",
            "Requirement already satisfied: mpmath<1.4,>=1.1.0 in /usr/local/lib/python3.11/dist-packages (from sympy>=1.3->qiskit>=1.1.0->qiskit_ibm_runtime) (1.3.0)\n",
            "Requirement already satisfied: pycparser in /usr/local/lib/python3.11/dist-packages (from cffi>=1.12->cryptography>=1.3->requests-ntlm>=1.1.0->qiskit_ibm_runtime) (2.22)\n",
            "Downloading qiskit_ibm_runtime-0.34.0-py3-none-any.whl (3.0 MB)\n",
            "\u001b[2K   \u001b[90m━━━━━━━━━━━━━━━━━━━━━━━━━━━━━━━━━━━━━━━━\u001b[0m \u001b[32m3.0/3.0 MB\u001b[0m \u001b[31m39.6 MB/s\u001b[0m eta \u001b[36m0:00:00\u001b[0m\n",
            "\u001b[?25hDownloading ibm_platform_services-0.59.1-py3-none-any.whl (340 kB)\n",
            "\u001b[2K   \u001b[90m━━━━━━━━━━━━━━━━━━━━━━━━━━━━━━━━━━━━━━━━\u001b[0m \u001b[32m340.8/340.8 kB\u001b[0m \u001b[31m25.5 MB/s\u001b[0m eta \u001b[36m0:00:00\u001b[0m\n",
            "\u001b[?25hDownloading pydantic-2.9.2-py3-none-any.whl (434 kB)\n",
            "\u001b[2K   \u001b[90m━━━━━━━━━━━━━━━━━━━━━━━━━━━━━━━━━━━━━━━━\u001b[0m \u001b[32m434.9/434.9 kB\u001b[0m \u001b[31m24.2 MB/s\u001b[0m eta \u001b[36m0:00:00\u001b[0m\n",
            "\u001b[?25hDownloading pydantic_core-2.23.4-cp311-cp311-manylinux_2_17_x86_64.manylinux2014_x86_64.whl (2.1 MB)\n",
            "\u001b[2K   \u001b[90m━━━━━━━━━━━━━━━━━━━━━━━━━━━━━━━━━━━━━━━━\u001b[0m \u001b[32m2.1/2.1 MB\u001b[0m \u001b[31m50.3 MB/s\u001b[0m eta \u001b[36m0:00:00\u001b[0m\n",
            "\u001b[?25hDownloading requests_ntlm-1.3.0-py3-none-any.whl (6.6 kB)\n",
            "Downloading ibm_cloud_sdk_core-3.22.1-py3-none-any.whl (69 kB)\n",
            "\u001b[2K   \u001b[90m━━━━━━━━━━━━━━━━━━━━━━━━━━━━━━━━━━━━━━━━\u001b[0m \u001b[32m69.4/69.4 kB\u001b[0m \u001b[31m6.1 MB/s\u001b[0m eta \u001b[36m0:00:00\u001b[0m\n",
            "\u001b[?25hDownloading pyspnego-0.11.2-py3-none-any.whl (130 kB)\n",
            "\u001b[2K   \u001b[90m━━━━━━━━━━━━━━━━━━━━━━━━━━━━━━━━━━━━━━━━\u001b[0m \u001b[32m130.5/130.5 kB\u001b[0m \u001b[31m10.8 MB/s\u001b[0m eta \u001b[36m0:00:00\u001b[0m\n",
            "\u001b[?25hInstalling collected packages: pydantic-core, pydantic, ibm_cloud_sdk_core, pyspnego, ibm-platform-services, requests-ntlm, qiskit_ibm_runtime\n",
            "  Attempting uninstall: pydantic-core\n",
            "    Found existing installation: pydantic_core 2.27.2\n",
            "    Uninstalling pydantic_core-2.27.2:\n",
            "      Successfully uninstalled pydantic_core-2.27.2\n",
            "  Attempting uninstall: pydantic\n",
            "    Found existing installation: pydantic 2.10.6\n",
            "    Uninstalling pydantic-2.10.6:\n",
            "      Successfully uninstalled pydantic-2.10.6\n",
            "Successfully installed ibm-platform-services-0.59.1 ibm_cloud_sdk_core-3.22.1 pydantic-2.9.2 pydantic-core-2.23.4 pyspnego-0.11.2 qiskit_ibm_runtime-0.34.0 requests-ntlm-1.3.0\n"
          ]
        }
      ],
      "source": [
        "!pip install qiskit qiskit_aer\n",
        "!pip install qiskit_ibm_runtime"
      ]
    },
    {
      "cell_type": "markdown",
      "source": [
        "## Import the libraries"
      ],
      "metadata": {
        "id": "krUDaP5UhAwy"
      }
    },
    {
      "cell_type": "code",
      "source": [
        "import math\n",
        "from qiskit import QuantumCircuit, QuantumRegister, ClassicalRegister\n",
        "from qiskit_aer import AerSimulator\n",
        "from qiskit import transpile\n",
        "from qiskit_ibm_runtime import QiskitRuntimeService, SamplerV2 as Sampler\n",
        "import hmac\n",
        "import hashlib\n"
      ],
      "metadata": {
        "id": "XosPH-efVdJa"
      },
      "execution_count": null,
      "outputs": []
    },
    {
      "cell_type": "markdown",
      "source": [
        "## Functions To generate shared bases\n",
        "#### Based on the paper"
      ],
      "metadata": {
        "id": "IXRgk0DZhC5e"
      }
    },
    {
      "cell_type": "code",
      "source": [
        "import hmac\n",
        "import hashlib\n",
        "\n",
        "len_message = 16  # Length of binary output\n",
        "\n",
        "def hmac_prf(secret_key: str, message: bytes) -> str:\n",
        "    \"\"\"\n",
        "    Generate HMAC using SHA-256 and return a binary output truncated to `len_message` bits.\n",
        "\n",
        "    Args:\n",
        "    - secret_key (str): Shared secret key.\n",
        "    - message (bytes): Input message (previous value + seed + counter).\n",
        "\n",
        "    Returns:\n",
        "    - str: Binary string representation (16 bits).\n",
        "    \"\"\"\n",
        "    hmac_output = hmac.new(secret_key.encode(), message, hashlib.sha256).hexdigest()\n",
        "    binary_output = bin(int(hmac_output, 16))[2:].zfill(256)[:len_message]  # Convert to binary and truncate\n",
        "    return binary_output\n",
        "\n",
        "def binary_concat(*args) -> bytes:\n",
        "    \"\"\"\n",
        "    Concatenate multiple binary elements.\n",
        "\n",
        "    Args:\n",
        "    - *args: List of elements (str or bytes).\n",
        "\n",
        "    Returns:\n",
        "    - bytes: Concatenated result.\n",
        "    \"\"\"\n",
        "    return b''.join(arg.encode() if isinstance(arg, str) else arg for arg in args)\n",
        "\n",
        "def update_key_and_seed(K: str, S: str) -> tuple:\n",
        "    \"\"\"\n",
        "    Generate a new K and S using HMAC-PRF to ensure forward secrecy.\n",
        "\n",
        "    Args:\n",
        "    - K (str): Previous secret key.\n",
        "    - S (str): Previous seed.\n",
        "\n",
        "    Returns:\n",
        "    - (new_K, new_S): Tuple of updated K and S as hexadecimal strings.\n",
        "    \"\"\"\n",
        "    new_K = hmac_prf(K, b\"update_key\")\n",
        "    new_S = hmac_prf(S, b\"update_seed\")\n",
        "    return new_K, new_S\n",
        "\n",
        "def generate_next_T(K: str, S: str, prev_T: str, round_num: int) -> str:\n",
        "    \"\"\"\n",
        "    Generate the next T value dynamically based on the previous T.\n",
        "\n",
        "    Args:\n",
        "    - K (str): Current secret key.\n",
        "    - S (str): Current seed.\n",
        "    - prev_T (str): Previous T value.\n",
        "    - round_num (int): Round number for counter.\n",
        "\n",
        "    Returns:\n",
        "    - str: New T value in binary.\n",
        "    \"\"\"\n",
        "    counter = round_num.to_bytes(1, byteorder='big')\n",
        "    next_T = hmac_prf(K, binary_concat(prev_T.encode(), S.encode(), counter))\n",
        "    return next_T\n",
        "\n"
      ],
      "metadata": {
        "id": "JXuUBlxMcXbV"
      },
      "execution_count": null,
      "outputs": []
    },
    {
      "cell_type": "markdown",
      "source": [
        "## Round 1"
      ],
      "metadata": {
        "id": "vm-dwA37hQys"
      }
    },
    {
      "cell_type": "code",
      "source": [
        "# === Initialization ===\n",
        "K = \"shared_secret_key\"\n",
        "S = \"shared_seed\"\n",
        "prev_T = \"0000000000000000\"\n",
        "\n",
        "# === Run a single round and show changes ===\n",
        "round_number = 1\n",
        "print(f\"Round {round_number}:\")\n",
        "print(f\"  Initial K  = {K}\")\n",
        "print(f\"  Initial S  = {S}\")\n",
        "\n",
        "# Generate new T\n",
        "new_T = generate_next_T(K, S, prev_T, round_number)\n",
        "print(f\"  Generated T{round_number} = {new_T}\")\n",
        "\n",
        "# Update K and S for the next round\n",
        "K, S = update_key_and_seed(K, S)\n",
        "print(f\"  Updated K  = {K}\")\n",
        "print(f\"  Updated S  = {S}\")"
      ],
      "metadata": {
        "colab": {
          "base_uri": "https://localhost:8080/"
        },
        "id": "VtkRbrr7hNID",
        "outputId": "d06776a3-635a-4412-a116-d27af1e13b62"
      },
      "execution_count": null,
      "outputs": [
        {
          "output_type": "stream",
          "name": "stdout",
          "text": [
            "Round 1:\n",
            "  Initial K  = shared_secret_key\n",
            "  Initial S  = shared_seed\n",
            "  Generated T1 = 0100100001110000\n",
            "  Updated K  = 1100100011101110\n",
            "  Updated S  = 0111010110100001\n"
          ]
        }
      ]
    },
    {
      "cell_type": "code",
      "source": [
        "round_number = 2\n",
        "print(f\"Round {round_number}:\")\n",
        "print(f\"  Initial K  = {K}\")\n",
        "print(f\"  Initial S  = {S}\")\n",
        "\n",
        "\n",
        "new_T = generate_next_T(K, S, prev_T, round_number)\n",
        "print(f\"  Generated T{round_number} = {new_T}\")\n",
        "\n",
        "# Update K and S for the next round\n",
        "K, S = update_key_and_seed(K, S)\n",
        "print(f\"  Updated K  = {K}\")\n",
        "print(f\"  Updated S  = {S}\")\n"
      ],
      "metadata": {
        "colab": {
          "base_uri": "https://localhost:8080/"
        },
        "id": "cKa_7hXqgNZz",
        "outputId": "93ec442a-f689-4c34-d035-39b32b5ee2e7"
      },
      "execution_count": null,
      "outputs": [
        {
          "output_type": "stream",
          "name": "stdout",
          "text": [
            "Round 2:\n",
            "  Initial K  = 1100100011101110\n",
            "  Initial S  = 0111010110100001\n",
            "  Generated T2 = 0000000011000001\n",
            "  Updated K  = 0000101111100101\n",
            "  Updated S  = 1001000010010111\n"
          ]
        }
      ]
    },
    {
      "cell_type": "markdown",
      "source": [
        "## Select common bases"
      ],
      "metadata": {
        "id": "Lc_PeQt3iKPX"
      }
    },
    {
      "cell_type": "code",
      "source": [
        "alice_bases = bob_bases = new_T"
      ],
      "metadata": {
        "id": "a8uZBNgo2-NJ"
      },
      "execution_count": null,
      "outputs": []
    },
    {
      "cell_type": "markdown",
      "source": [
        "## Runtime initialisation"
      ],
      "metadata": {
        "id": "2OqfBpx5iMjo"
      }
    },
    {
      "cell_type": "code",
      "source": [
        "token= \"90c11c3427d32b9170daa73f5fffe26dc68634b8b6f0d8e5a83082726bd42c2d384e16c5ea3f3ed03f5cb71156de8fb4ba9b3880f9f990c6ed2d275f315de5d3\"\n",
        "from qiskit_ibm_runtime import QiskitRuntimeService\n",
        "from qiskit import QuantumCircuit, QuantumRegister, ClassicalRegister\n",
        "from qiskit_ibm_runtime import QiskitRuntimeService, SamplerV2 as Sampler\n",
        "from qiskit.transpiler.preset_passmanagers import generate_preset_pass_manager\n",
        "\n",
        "QiskitRuntimeService.save_account(\n",
        "  token=token,\n",
        "  channel=\"ibm_quantum\",\n",
        "  overwrite=True\n",
        ")\n"
      ],
      "metadata": {
        "id": "RpIGD1ZdVnSK"
      },
      "execution_count": null,
      "outputs": []
    },
    {
      "cell_type": "code",
      "source": [
        "service = QiskitRuntimeService()\n",
        "n_qubits = 5\n",
        "backend = service.least_busy(operational=True, simulator=False, min_num_qubits=n_qubits)\n",
        "print(\"Selected Backend\", backend)"
      ],
      "metadata": {
        "colab": {
          "base_uri": "https://localhost:8080/"
        },
        "id": "u90RZwKOVpIy",
        "outputId": "5ddeea3d-fa46-4031-e5f0-5acf101b2414"
      },
      "execution_count": null,
      "outputs": [
        {
          "output_type": "stream",
          "name": "stdout",
          "text": [
            "Selected Backend <IBMBackend('ibm_sherbrooke')>\n"
          ]
        }
      ]
    },
    {
      "cell_type": "code",
      "source": [
        "print(backend)"
      ],
      "metadata": {
        "colab": {
          "base_uri": "https://localhost:8080/"
        },
        "id": "TKSoCEBIaItj",
        "outputId": "7ff3f59b-d136-4c0b-dcbe-5bfbfbbe7c22"
      },
      "execution_count": null,
      "outputs": [
        {
          "output_type": "stream",
          "name": "stdout",
          "text": [
            "<IBMBackend('ibm_sherbrooke')>\n"
          ]
        }
      ]
    },
    {
      "cell_type": "markdown",
      "source": [
        "## Quantum Random Number Generation"
      ],
      "metadata": {
        "id": "tpQ9FepciPj1"
      }
    },
    {
      "cell_type": "code",
      "source": [
        "# Function to generate a random binary string using quantum circuits\n",
        "def RandomStringIBM(str_len):\n",
        "    op_str = ''  # Initialize an empty output string\n",
        "    num_qbits = 16  # Define number of qubits\n",
        "\n",
        "    # Calculate the number of chunks needed\n",
        "    num_chunks = math.ceil(str_len / num_qbits)\n",
        "    for _ in range(num_chunks):\n",
        "        # Create a quantum register and a classical register\n",
        "        q = QuantumRegister(num_qbits)\n",
        "        c = ClassicalRegister(num_qbits)\n",
        "        QC = QuantumCircuit(q, c)\n",
        "\n",
        "        # Apply Hadamard gates to all qubits to create superposition\n",
        "        for i in range(num_qbits):\n",
        "            QC.h(q[i])\n",
        "        QC.measure(q, c)\n",
        "        pm = generate_preset_pass_manager(backend=backend, optimization_level=1)\n",
        "        isa_circuit = pm.run(QC)\n",
        "\n",
        "        sampler = Sampler(backend)\n",
        "        job = sampler.run([isa_circuit])\n",
        "        print(job.job_id)\n",
        "        result = job.result()\n"
      ],
      "metadata": {
        "id": "6dKi8SJkVq6m"
      },
      "execution_count": null,
      "outputs": []
    },
    {
      "cell_type": "code",
      "source": [
        "len_message = 16\n",
        "alice_key = RandomStringIBM(len_message)"
      ],
      "metadata": {
        "id": "kkFbNkKX2wki",
        "colab": {
          "base_uri": "https://localhost:8080/"
        },
        "outputId": "c4995124-2999-4b5e-8cf5-12a5af60bb51"
      },
      "execution_count": null,
      "outputs": [
        {
          "output_type": "stream",
          "name": "stdout",
          "text": [
            "<bound method BasePrimitiveJob.job_id of <RuntimeJobV2('cyctrvvcw2k0008kns7g', 'sampler')>>\n"
          ]
        }
      ]
    },
    {
      "cell_type": "code",
      "source": [
        "print(alice_key)"
      ],
      "metadata": {
        "colab": {
          "base_uri": "https://localhost:8080/"
        },
        "id": "jlx5ZQVYSdAy",
        "outputId": "5a26474e-fb3e-44b5-a24c-c24fd2431382"
      },
      "execution_count": null,
      "outputs": [
        {
          "output_type": "stream",
          "name": "stdout",
          "text": [
            "1010000100011111\n"
          ]
        }
      ]
    },
    {
      "cell_type": "markdown",
      "source": [
        "### Job ID"
      ],
      "metadata": {
        "id": "_8UrtQ_ViToo"
      }
    },
    {
      "cell_type": "markdown",
      "source": [
        "Random Number : cyctrvvcw2k0008kns7g\n"
      ],
      "metadata": {
        "id": "GIxt0DomSsW5"
      }
    },
    {
      "cell_type": "code",
      "source": [
        "job_id = 'cyctrvvcw2k0008kns7g'\n",
        "job = service.job(job_id)\n",
        "result = job.result()\n",
        "data = result[0].data\n",
        "bitarray = next(iter(data.values()))\n",
        "counts = bitarray.get_counts()\n",
        "alice_key = next(iter(counts.keys()))\n"
      ],
      "metadata": {
        "id": "UocoaU47VtQ1"
      },
      "execution_count": null,
      "outputs": []
    },
    {
      "cell_type": "code",
      "source": [
        "print(alice_key)"
      ],
      "metadata": {
        "id": "odz_DoxlWJNl",
        "colab": {
          "base_uri": "https://localhost:8080/"
        },
        "outputId": "3c012fcb-29a7-41a4-8096-8a241b8e4d56"
      },
      "execution_count": null,
      "outputs": [
        {
          "output_type": "stream",
          "name": "stdout",
          "text": [
            "1010000100011111\n"
          ]
        }
      ]
    },
    {
      "cell_type": "code",
      "source": [
        "# Quantum Circuit for encoding\n",
        "q = QuantumRegister(len_message)\n",
        "c = ClassicalRegister(len_message)\n",
        "qc = QuantumCircuit(q, c)\n",
        "\n",
        "# Encode qubits based on Alice's key and basis\n",
        "for i in range(len_message):\n",
        "    if alice_key[i] == '1':\n",
        "        qc.x(q[i])  # Flip the qubit to 1 if key is 1\n",
        "    if alice_bases[i] == '1':\n",
        "\n",
        "        qc.h(q[i])  # Apply Hadamard gate if basis is 1\n",
        "qc.barrier()"
      ],
      "metadata": {
        "colab": {
          "base_uri": "https://localhost:8080/"
        },
        "id": "_tQJQSJkV0W8",
        "outputId": "7de8f908-b781-4dbe-c110-dc2e9c3ec2eb"
      },
      "execution_count": null,
      "outputs": [
        {
          "output_type": "execute_result",
          "data": {
            "text/plain": [
              "CircuitInstruction(operation=Instruction(name='barrier', num_qubits=16, num_clbits=0, params=[]), qubits=(Qubit(QuantumRegister(16, 'q4'), 0), Qubit(QuantumRegister(16, 'q4'), 1), Qubit(QuantumRegister(16, 'q4'), 2), Qubit(QuantumRegister(16, 'q4'), 3), Qubit(QuantumRegister(16, 'q4'), 4), Qubit(QuantumRegister(16, 'q4'), 5), Qubit(QuantumRegister(16, 'q4'), 6), Qubit(QuantumRegister(16, 'q4'), 7), Qubit(QuantumRegister(16, 'q4'), 8), Qubit(QuantumRegister(16, 'q4'), 9), Qubit(QuantumRegister(16, 'q4'), 10), Qubit(QuantumRegister(16, 'q4'), 11), Qubit(QuantumRegister(16, 'q4'), 12), Qubit(QuantumRegister(16, 'q4'), 13), Qubit(QuantumRegister(16, 'q4'), 14), Qubit(QuantumRegister(16, 'q4'), 15)), clbits=())"
            ]
          },
          "metadata": {},
          "execution_count": 16
        }
      ]
    },
    {
      "cell_type": "code",
      "source": [
        "# Step 3: Bob measures the qubits\n",
        "for i in range(len_message):\n",
        "    if bob_bases[i] == '1':\n",
        "        qc.h(q[i])  # Bob applies Hadamard if measuring in Hadamard basis\n",
        "\n",
        "# Add measurements\n",
        "qc.measure(q, c)"
      ],
      "metadata": {
        "colab": {
          "base_uri": "https://localhost:8080/"
        },
        "id": "KbyewultWEnZ",
        "outputId": "d1720790-a924-4b29-ff68-0e440b336c3d"
      },
      "execution_count": null,
      "outputs": [
        {
          "output_type": "execute_result",
          "data": {
            "text/plain": [
              "<qiskit.circuit.instructionset.InstructionSet at 0x7d106dcaac50>"
            ]
          },
          "metadata": {},
          "execution_count": 17
        }
      ]
    },
    {
      "cell_type": "code",
      "source": [
        "qc.draw()"
      ],
      "metadata": {
        "colab": {
          "base_uri": "https://localhost:8080/",
          "height": 556
        },
        "id": "WzP4n4cyYdeV",
        "outputId": "10c88e00-8c0a-4522-ca27-fd7d10080d6f"
      },
      "execution_count": null,
      "outputs": [
        {
          "output_type": "execute_result",
          "data": {
            "text/plain": [
              "       ┌───┐┌───┐ ░ ┌───┐                     ┌─┐                        \n",
              " q4_0: ┤ X ├┤ H ├─░─┤ H ├─────────────────────┤M├────────────────────────\n",
              "       └───┘└───┘ ░ └───┘┌─┐                  └╥┘                        \n",
              " q4_1: ───────────░──────┤M├───────────────────╫─────────────────────────\n",
              "       ┌───┐┌───┐ ░ ┌───┐└╥┘                   ║ ┌─┐                     \n",
              " q4_2: ┤ X ├┤ H ├─░─┤ H ├─╫────────────────────╫─┤M├─────────────────────\n",
              "       ├───┤└───┘ ░ ├───┤ ║                    ║ └╥┘┌─┐                  \n",
              " q4_3: ┤ H ├──────░─┤ H ├─╫────────────────────╫──╫─┤M├──────────────────\n",
              "       └───┘      ░ └───┘ ║ ┌─┐                ║  ║ └╥┘                  \n",
              " q4_4: ───────────░───────╫─┤M├────────────────╫──╫──╫───────────────────\n",
              "                  ░       ║ └╥┘┌─┐             ║  ║  ║                   \n",
              " q4_5: ───────────░───────╫──╫─┤M├─────────────╫──╫──╫───────────────────\n",
              "       ┌───┐      ░ ┌───┐ ║  ║ └╥┘             ║  ║  ║ ┌─┐               \n",
              " q4_6: ┤ H ├──────░─┤ H ├─╫──╫──╫──────────────╫──╫──╫─┤M├───────────────\n",
              "       ├───┤      ░ └───┘ ║  ║  ║ ┌─┐          ║  ║  ║ └╥┘               \n",
              " q4_7: ┤ X ├──────░───────╫──╫──╫─┤M├──────────╫──╫──╫──╫────────────────\n",
              "       └───┘      ░       ║  ║  ║ └╥┘┌─┐       ║  ║  ║  ║                \n",
              " q4_8: ───────────░───────╫──╫──╫──╫─┤M├───────╫──╫──╫──╫────────────────\n",
              "                  ░       ║  ║  ║  ║ └╥┘┌─┐    ║  ║  ║  ║                \n",
              " q4_9: ───────────░───────╫──╫──╫──╫──╫─┤M├────╫──╫──╫──╫────────────────\n",
              "       ┌───┐      ░ ┌───┐ ║  ║  ║  ║  ║ └╥┘    ║  ║  ║  ║ ┌─┐            \n",
              "q4_10: ┤ H ├──────░─┤ H ├─╫──╫──╫──╫──╫──╫─────╫──╫──╫──╫─┤M├────────────\n",
              "       ├───┤┌───┐ ░ ├───┤ ║  ║  ║  ║  ║  ║     ║  ║  ║  ║ └╥┘┌─┐         \n",
              "q4_11: ┤ X ├┤ H ├─░─┤ H ├─╫──╫──╫──╫──╫──╫─────╫──╫──╫──╫──╫─┤M├─────────\n",
              "       ├───┤├───┤ ░ ├───┤ ║  ║  ║  ║  ║  ║     ║  ║  ║  ║  ║ └╥┘┌─┐      \n",
              "q4_12: ┤ X ├┤ H ├─░─┤ H ├─╫──╫──╫──╫──╫──╫─────╫──╫──╫──╫──╫──╫─┤M├──────\n",
              "       ├───┤├───┤ ░ ├───┤ ║  ║  ║  ║  ║  ║     ║  ║  ║  ║  ║  ║ └╥┘┌─┐   \n",
              "q4_13: ┤ X ├┤ H ├─░─┤ H ├─╫──╫──╫──╫──╫──╫─────╫──╫──╫──╫──╫──╫──╫─┤M├───\n",
              "       ├───┤└───┘ ░ └───┘ ║  ║  ║  ║  ║  ║ ┌─┐ ║  ║  ║  ║  ║  ║  ║ └╥┘   \n",
              "q4_14: ┤ X ├──────░───────╫──╫──╫──╫──╫──╫─┤M├─╫──╫──╫──╫──╫──╫──╫──╫────\n",
              "       ├───┤┌───┐ ░ ┌───┐ ║  ║  ║  ║  ║  ║ └╥┘ ║  ║  ║  ║  ║  ║  ║  ║ ┌─┐\n",
              "q4_15: ┤ X ├┤ H ├─░─┤ H ├─╫──╫──╫──╫──╫──╫──╫──╫──╫──╫──╫──╫──╫──╫──╫─┤M├\n",
              "       └───┘└───┘ ░ └───┘ ║  ║  ║  ║  ║  ║  ║  ║  ║  ║  ║  ║  ║  ║  ║ └╥┘\n",
              "c1: 16/═══════════════════╩══╩══╩══╩══╩══╩══╩══╩══╩══╩══╩══╩══╩══╩══╩══╩═\n",
              "                          1  4  5  7  8  9  14 0  2  3  6  10 11 12 13 15"
            ],
            "text/html": [
              "<pre style=\"word-wrap: normal;white-space: pre;background: #fff0;line-height: 1.1;font-family: &quot;Courier New&quot;,Courier,monospace\">       ┌───┐┌───┐ ░ ┌───┐                     ┌─┐                        \n",
              " q4_0: ┤ X ├┤ H ├─░─┤ H ├─────────────────────┤M├────────────────────────\n",
              "       └───┘└───┘ ░ └───┘┌─┐                  └╥┘                        \n",
              " q4_1: ───────────░──────┤M├───────────────────╫─────────────────────────\n",
              "       ┌───┐┌───┐ ░ ┌───┐└╥┘                   ║ ┌─┐                     \n",
              " q4_2: ┤ X ├┤ H ├─░─┤ H ├─╫────────────────────╫─┤M├─────────────────────\n",
              "       ├───┤└───┘ ░ ├───┤ ║                    ║ └╥┘┌─┐                  \n",
              " q4_3: ┤ H ├──────░─┤ H ├─╫────────────────────╫──╫─┤M├──────────────────\n",
              "       └───┘      ░ └───┘ ║ ┌─┐                ║  ║ └╥┘                  \n",
              " q4_4: ───────────░───────╫─┤M├────────────────╫──╫──╫───────────────────\n",
              "                  ░       ║ └╥┘┌─┐             ║  ║  ║                   \n",
              " q4_5: ───────────░───────╫──╫─┤M├─────────────╫──╫──╫───────────────────\n",
              "       ┌───┐      ░ ┌───┐ ║  ║ └╥┘             ║  ║  ║ ┌─┐               \n",
              " q4_6: ┤ H ├──────░─┤ H ├─╫──╫──╫──────────────╫──╫──╫─┤M├───────────────\n",
              "       ├───┤      ░ └───┘ ║  ║  ║ ┌─┐          ║  ║  ║ └╥┘               \n",
              " q4_7: ┤ X ├──────░───────╫──╫──╫─┤M├──────────╫──╫──╫──╫────────────────\n",
              "       └───┘      ░       ║  ║  ║ └╥┘┌─┐       ║  ║  ║  ║                \n",
              " q4_8: ───────────░───────╫──╫──╫──╫─┤M├───────╫──╫──╫──╫────────────────\n",
              "                  ░       ║  ║  ║  ║ └╥┘┌─┐    ║  ║  ║  ║                \n",
              " q4_9: ───────────░───────╫──╫──╫──╫──╫─┤M├────╫──╫──╫──╫────────────────\n",
              "       ┌───┐      ░ ┌───┐ ║  ║  ║  ║  ║ └╥┘    ║  ║  ║  ║ ┌─┐            \n",
              "q4_10: ┤ H ├──────░─┤ H ├─╫──╫──╫──╫──╫──╫─────╫──╫──╫──╫─┤M├────────────\n",
              "       ├───┤┌───┐ ░ ├───┤ ║  ║  ║  ║  ║  ║     ║  ║  ║  ║ └╥┘┌─┐         \n",
              "q4_11: ┤ X ├┤ H ├─░─┤ H ├─╫──╫──╫──╫──╫──╫─────╫──╫──╫──╫──╫─┤M├─────────\n",
              "       ├───┤├───┤ ░ ├───┤ ║  ║  ║  ║  ║  ║     ║  ║  ║  ║  ║ └╥┘┌─┐      \n",
              "q4_12: ┤ X ├┤ H ├─░─┤ H ├─╫──╫──╫──╫──╫──╫─────╫──╫──╫──╫──╫──╫─┤M├──────\n",
              "       ├───┤├───┤ ░ ├───┤ ║  ║  ║  ║  ║  ║     ║  ║  ║  ║  ║  ║ └╥┘┌─┐   \n",
              "q4_13: ┤ X ├┤ H ├─░─┤ H ├─╫──╫──╫──╫──╫──╫─────╫──╫──╫──╫──╫──╫──╫─┤M├───\n",
              "       ├───┤└───┘ ░ └───┘ ║  ║  ║  ║  ║  ║ ┌─┐ ║  ║  ║  ║  ║  ║  ║ └╥┘   \n",
              "q4_14: ┤ X ├──────░───────╫──╫──╫──╫──╫──╫─┤M├─╫──╫──╫──╫──╫──╫──╫──╫────\n",
              "       ├───┤┌───┐ ░ ┌───┐ ║  ║  ║  ║  ║  ║ └╥┘ ║  ║  ║  ║  ║  ║  ║  ║ ┌─┐\n",
              "q4_15: ┤ X ├┤ H ├─░─┤ H ├─╫──╫──╫──╫──╫──╫──╫──╫──╫──╫──╫──╫──╫──╫──╫─┤M├\n",
              "       └───┘└───┘ ░ └───┘ ║  ║  ║  ║  ║  ║  ║  ║  ║  ║  ║  ║  ║  ║  ║ └╥┘\n",
              "c1: 16/═══════════════════╩══╩══╩══╩══╩══╩══╩══╩══╩══╩══╩══╩══╩══╩══╩══╩═\n",
              "                          1  4  5  7  8  9  14 0  2  3  6  10 11 12 13 15</pre>"
            ]
          },
          "metadata": {},
          "execution_count": 18
        }
      ]
    },
    {
      "cell_type": "code",
      "source": [
        "pm = generate_preset_pass_manager(backend=backend, optimization_level=1)\n",
        "isa_circuit = pm.run(qc)\n",
        "\n",
        "sampler = Sampler(backend)\n",
        "job = sampler.run([isa_circuit],shots=1)\n",
        "result = job.result()\n"
      ],
      "metadata": {
        "id": "HqIy2mG1WoM9"
      },
      "execution_count": null,
      "outputs": []
    },
    {
      "cell_type": "code",
      "source": [
        "data = result[0].data\n",
        "bitarray = next(iter(data.values()))\n",
        "counts = bitarray.get_counts()"
      ],
      "metadata": {
        "id": "yShKr_oRXXFP"
      },
      "execution_count": null,
      "outputs": []
    },
    {
      "cell_type": "markdown",
      "source": [
        "## Run the circuit"
      ],
      "metadata": {
        "id": "3KMSqQawiYk4"
      }
    },
    {
      "cell_type": "markdown",
      "source": [
        "Circuit : cyctsyf01rbg008k06yg"
      ],
      "metadata": {
        "id": "gLTwryquTdSi"
      }
    },
    {
      "cell_type": "code",
      "source": [
        "\n",
        "job_id = 'cyctsyf01rbg008k06yg'\n",
        "job = service.job(job_id)\n",
        "result = job.result()\n",
        "data = result[0].data\n",
        "bitarray = next(iter(data.values()))\n",
        "counts = bitarray.get_counts()\n",
        "bob_result = next(iter(counts.keys()))\n"
      ],
      "metadata": {
        "id": "h1m8iNCy3p91"
      },
      "execution_count": null,
      "outputs": []
    },
    {
      "cell_type": "code",
      "source": [
        "bob_result = next(iter(counts.keys()))\n",
        "print(bob_result)"
      ],
      "metadata": {
        "id": "Zkwu73LKXYeR",
        "colab": {
          "base_uri": "https://localhost:8080/"
        },
        "outputId": "b5eff71f-f051-4810-bb23-e7df6b4b4f28"
      },
      "execution_count": null,
      "outputs": [
        {
          "output_type": "stream",
          "name": "stdout",
          "text": [
            "1111100011000101\n"
          ]
        }
      ]
    },
    {
      "cell_type": "code",
      "source": [
        "print((alice_bases))\n",
        "print((bob_bases))\n",
        "print((alice_key))\n",
        "print((bob_result))\n"
      ],
      "metadata": {
        "colab": {
          "base_uri": "https://localhost:8080/"
        },
        "id": "wt8yPPVKY-zk",
        "outputId": "65a2f89e-95fe-41a8-ae6a-d45eb231375f"
      },
      "execution_count": null,
      "outputs": [
        {
          "output_type": "stream",
          "name": "stdout",
          "text": [
            "1011001000111101\n",
            "1011001000111101\n",
            "1010000100011111\n",
            "1111100011000101\n"
          ]
        }
      ]
    },
    {
      "cell_type": "code",
      "source": [
        "# Display matching bits for shared key\n",
        "shared_key = []\n",
        "for i in range(len_message):\n",
        "    if alice_bases[i] == bob_bases[i]:  # Only keep the bit if bases match\n",
        "        shared_key.append(bob_result[len_message - i - 1])  # Reverse order in Qiskit\n",
        "\n",
        "final_shared_key = ''.join(shared_key)\n",
        "print('Final Shared Key:', final_shared_key)\n",
        "\n",
        "# Calculate the percentage of key bits retained\n",
        "matching_bits_count = len(final_shared_key)\n",
        "percentage_retained = (matching_bits_count / len_message) * 100\n",
        "print(\"Percentage of key bits retained: \", percentage_retained, \"%\")"
      ],
      "metadata": {
        "id": "HbpQLRZrYlwA",
        "colab": {
          "base_uri": "https://localhost:8080/"
        },
        "outputId": "e6a30b9b-4109-43b9-8dd8-09f5854b275b"
      },
      "execution_count": null,
      "outputs": [
        {
          "output_type": "stream",
          "name": "stdout",
          "text": [
            "Final Shared Key: 1010001100011111\n",
            "Percentage of key bits retained:  100.0 %\n"
          ]
        }
      ]
    },
    {
      "cell_type": "markdown",
      "source": [
        "## One time pad"
      ],
      "metadata": {
        "id": "t3sz7pq1nmzw"
      }
    },
    {
      "cell_type": "code",
      "source": [
        "final_shared_key = 1010001100011111"
      ],
      "metadata": {
        "id": "zk1amox7nrcT"
      },
      "execution_count": 34,
      "outputs": []
    },
    {
      "cell_type": "markdown",
      "source": [
        "fin"
      ],
      "metadata": {
        "id": "YxTsL5tjnq4K"
      }
    },
    {
      "cell_type": "code",
      "source": [
        "import random\n",
        "\n",
        "# Function to convert a string to binary\n",
        "def text_to_bin(text):\n",
        "    return ''.join(format(ord(c), '08b') for c in text)\n",
        "\n",
        "# Function to convert binary back to string\n",
        "def bin_to_text(binary_string):\n",
        "    chars = [binary_string[i:i+8] for i in range(0, len(binary_string), 8)]\n",
        "    return ''.join(chr(int(char, 2)) for char in chars)\n",
        "\n",
        "# Function to encrypt a message using One-Time Pad\n",
        "def encrypt(message, key):\n",
        "    # Convert the message to binary\n",
        "    binary_message = text_to_bin(message)\n",
        "\n",
        "    # Encrypt by XORing the binary message with the key (key length fixed at 28)\n",
        "    encrypted = ''.join(str(int(binary_message[i]) ^ int(key[i % len(key)])) for i in range(len(binary_message)))\n",
        "    return encrypted\n",
        "\n",
        "# Function to decrypt a message using One-Time Pad\n",
        "def decrypt(ciphertext, key):\n",
        "    # Decrypt by XORing the ciphertext with the key\n",
        "    decrypted = ''.join(str(int(ciphertext[i]) ^ int(key[i % len(key)])) for i in range(len(ciphertext)))\n",
        "\n",
        "    # Convert the decrypted binary string back to text\n",
        "    return bin_to_text(decrypted)\n",
        "\n",
        "# Example usage\n",
        "message = \"Helod World\"\n",
        "\n",
        "# Assuming final_shared_key is predefined and has a length of 28\n",
        "\n",
        "print(f\"Key: {final_shared_key}\")\n",
        "\n",
        "# Encrypt the message using One-Time Pad\n",
        "ciphertext = encrypt(message, final_shared_key)\n",
        "print(f\"Encrypted Message (Binary): {ciphertext}\")\n",
        "\n",
        "# Decrypt the message using the same key\n",
        "decrypted_message = decrypt(ciphertext, final_shared_key)\n",
        "print(f\"Decrypted Message: {decrypted_message}\")\n"
      ],
      "metadata": {
        "id": "Bnb_GIY9cWvX",
        "colab": {
          "base_uri": "https://localhost:8080/",
          "height": 374
        },
        "outputId": "a70aef36-7cd3-446a-fee0-577c4c904716"
      },
      "execution_count": 35,
      "outputs": [
        {
          "output_type": "stream",
          "name": "stdout",
          "text": [
            "Key: 1010001100011111\n"
          ]
        },
        {
          "output_type": "error",
          "ename": "TypeError",
          "evalue": "object of type 'int' has no len()",
          "traceback": [
            "\u001b[0;31m---------------------------------------------------------------------------\u001b[0m",
            "\u001b[0;31mTypeError\u001b[0m                                 Traceback (most recent call last)",
            "\u001b[0;32m<ipython-input-35-cdb5cc004f73>\u001b[0m in \u001b[0;36m<cell line: 0>\u001b[0;34m()\u001b[0m\n\u001b[1;32m     35\u001b[0m \u001b[0;34m\u001b[0m\u001b[0m\n\u001b[1;32m     36\u001b[0m \u001b[0;31m# Encrypt the message using One-Time Pad\u001b[0m\u001b[0;34m\u001b[0m\u001b[0;34m\u001b[0m\u001b[0m\n\u001b[0;32m---> 37\u001b[0;31m \u001b[0mciphertext\u001b[0m \u001b[0;34m=\u001b[0m \u001b[0mencrypt\u001b[0m\u001b[0;34m(\u001b[0m\u001b[0mmessage\u001b[0m\u001b[0;34m,\u001b[0m \u001b[0mfinal_shared_key\u001b[0m\u001b[0;34m)\u001b[0m\u001b[0;34m\u001b[0m\u001b[0;34m\u001b[0m\u001b[0m\n\u001b[0m\u001b[1;32m     38\u001b[0m \u001b[0mprint\u001b[0m\u001b[0;34m(\u001b[0m\u001b[0;34mf\"Encrypted Message (Binary): {ciphertext}\"\u001b[0m\u001b[0;34m)\u001b[0m\u001b[0;34m\u001b[0m\u001b[0;34m\u001b[0m\u001b[0m\n\u001b[1;32m     39\u001b[0m \u001b[0;34m\u001b[0m\u001b[0m\n",
            "\u001b[0;32m<ipython-input-35-cdb5cc004f73>\u001b[0m in \u001b[0;36mencrypt\u001b[0;34m(message, key)\u001b[0m\n\u001b[1;32m     16\u001b[0m \u001b[0;34m\u001b[0m\u001b[0m\n\u001b[1;32m     17\u001b[0m     \u001b[0;31m# Encrypt by XORing the binary message with the key (key length fixed at 28)\u001b[0m\u001b[0;34m\u001b[0m\u001b[0;34m\u001b[0m\u001b[0m\n\u001b[0;32m---> 18\u001b[0;31m     \u001b[0mencrypted\u001b[0m \u001b[0;34m=\u001b[0m \u001b[0;34m''\u001b[0m\u001b[0;34m.\u001b[0m\u001b[0mjoin\u001b[0m\u001b[0;34m(\u001b[0m\u001b[0mstr\u001b[0m\u001b[0;34m(\u001b[0m\u001b[0mint\u001b[0m\u001b[0;34m(\u001b[0m\u001b[0mbinary_message\u001b[0m\u001b[0;34m[\u001b[0m\u001b[0mi\u001b[0m\u001b[0;34m]\u001b[0m\u001b[0;34m)\u001b[0m \u001b[0;34m^\u001b[0m \u001b[0mint\u001b[0m\u001b[0;34m(\u001b[0m\u001b[0mkey\u001b[0m\u001b[0;34m[\u001b[0m\u001b[0mi\u001b[0m \u001b[0;34m%\u001b[0m \u001b[0mlen\u001b[0m\u001b[0;34m(\u001b[0m\u001b[0mkey\u001b[0m\u001b[0;34m)\u001b[0m\u001b[0;34m]\u001b[0m\u001b[0;34m)\u001b[0m\u001b[0;34m)\u001b[0m \u001b[0;32mfor\u001b[0m \u001b[0mi\u001b[0m \u001b[0;32min\u001b[0m \u001b[0mrange\u001b[0m\u001b[0;34m(\u001b[0m\u001b[0mlen\u001b[0m\u001b[0;34m(\u001b[0m\u001b[0mbinary_message\u001b[0m\u001b[0;34m)\u001b[0m\u001b[0;34m)\u001b[0m\u001b[0;34m)\u001b[0m\u001b[0;34m\u001b[0m\u001b[0;34m\u001b[0m\u001b[0m\n\u001b[0m\u001b[1;32m     19\u001b[0m     \u001b[0;32mreturn\u001b[0m \u001b[0mencrypted\u001b[0m\u001b[0;34m\u001b[0m\u001b[0;34m\u001b[0m\u001b[0m\n\u001b[1;32m     20\u001b[0m \u001b[0;34m\u001b[0m\u001b[0m\n",
            "\u001b[0;32m<ipython-input-35-cdb5cc004f73>\u001b[0m in \u001b[0;36m<genexpr>\u001b[0;34m(.0)\u001b[0m\n\u001b[1;32m     16\u001b[0m \u001b[0;34m\u001b[0m\u001b[0m\n\u001b[1;32m     17\u001b[0m     \u001b[0;31m# Encrypt by XORing the binary message with the key (key length fixed at 28)\u001b[0m\u001b[0;34m\u001b[0m\u001b[0;34m\u001b[0m\u001b[0m\n\u001b[0;32m---> 18\u001b[0;31m     \u001b[0mencrypted\u001b[0m \u001b[0;34m=\u001b[0m \u001b[0;34m''\u001b[0m\u001b[0;34m.\u001b[0m\u001b[0mjoin\u001b[0m\u001b[0;34m(\u001b[0m\u001b[0mstr\u001b[0m\u001b[0;34m(\u001b[0m\u001b[0mint\u001b[0m\u001b[0;34m(\u001b[0m\u001b[0mbinary_message\u001b[0m\u001b[0;34m[\u001b[0m\u001b[0mi\u001b[0m\u001b[0;34m]\u001b[0m\u001b[0;34m)\u001b[0m \u001b[0;34m^\u001b[0m \u001b[0mint\u001b[0m\u001b[0;34m(\u001b[0m\u001b[0mkey\u001b[0m\u001b[0;34m[\u001b[0m\u001b[0mi\u001b[0m \u001b[0;34m%\u001b[0m \u001b[0mlen\u001b[0m\u001b[0;34m(\u001b[0m\u001b[0mkey\u001b[0m\u001b[0;34m)\u001b[0m\u001b[0;34m]\u001b[0m\u001b[0;34m)\u001b[0m\u001b[0;34m)\u001b[0m \u001b[0;32mfor\u001b[0m \u001b[0mi\u001b[0m \u001b[0;32min\u001b[0m \u001b[0mrange\u001b[0m\u001b[0;34m(\u001b[0m\u001b[0mlen\u001b[0m\u001b[0;34m(\u001b[0m\u001b[0mbinary_message\u001b[0m\u001b[0;34m)\u001b[0m\u001b[0;34m)\u001b[0m\u001b[0;34m)\u001b[0m\u001b[0;34m\u001b[0m\u001b[0;34m\u001b[0m\u001b[0m\n\u001b[0m\u001b[1;32m     19\u001b[0m     \u001b[0;32mreturn\u001b[0m \u001b[0mencrypted\u001b[0m\u001b[0;34m\u001b[0m\u001b[0;34m\u001b[0m\u001b[0m\n\u001b[1;32m     20\u001b[0m \u001b[0;34m\u001b[0m\u001b[0m\n",
            "\u001b[0;31mTypeError\u001b[0m: object of type 'int' has no len()"
          ]
        }
      ]
    },
    {
      "cell_type": "code",
      "source": [],
      "metadata": {
        "id": "chFYzX9AnoJ5"
      },
      "execution_count": null,
      "outputs": []
    }
  ]
}